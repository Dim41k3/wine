{
 "cells": [
  {
   "cell_type": "markdown",
   "metadata": {
    "_cell_guid": "6876755d-3552-491d-b416-a012fbe221e4",
    "_uuid": "0b46910d15d98513ea81fb24e0f8ab28134c5f5f"
   },
   "source": [
    "# **Thank You for opening this notebook!!!**\n",
    "\n",
    "## **This notebook tutorial is for those who are beginners to machine learning.**\n",
    "\n",
    "*In this notebook, First I have done some exploration on the data using matplotlib and seaborn.\n",
    "Then, I use different classifier models to predict the quality of the wine.*\n",
    "\n",
    "**1. Random Forest Classifier**\n",
    "\n",
    "**2. Stochastic Gradient Descent Classifier**\n",
    "\n",
    "**3. Support Vector Classifier(SVC) **\n",
    "\n",
    "*Then I use cross validation evaluation technique to optimize the model performance.*\n",
    "\n",
    "**1. Grid Search CV**\n",
    "\n",
    "**2. Cross Validation Score**\n",
    "\n",
    "## **If you find this notebook useful then please upvote.**"
   ]
  },
  {
   "cell_type": "code",
   "execution_count": 19,
   "metadata": {
    "_cell_guid": "87c7b371-53b1-4d4d-bfbd-373d2b84b33a",
    "_uuid": "da5343fb3f6b3942909c94bf8e2add04fd3ff1a3",
    "collapsed": true
   },
   "outputs": [],
   "source": [
    "#Importing required packages.\n",
    "import pandas as pd\n",
    "import seaborn as sns\n",
    "import matplotlib.pyplot as plt\n",
    "from sklearn.ensemble import RandomForestClassifier\n",
    "from sklearn.svm import SVC\n",
    "from sklearn.linear_model import SGDClassifier\n",
    "from sklearn.metrics import confusion_matrix, classification_report\n",
    "from sklearn.preprocessing import StandardScaler, LabelEncoder\n",
    "from sklearn.model_selection import train_test_split, GridSearchCV, cross_val_score\n",
    "%matplotlib inline"
   ]
  },
  {
   "cell_type": "code",
   "execution_count": 20,
   "metadata": {
    "_cell_guid": "800f9ff4-79bf-4785-9569-23e1d9b9b03b",
    "_uuid": "07c8409e4eccd80507d9846e8cc70ea42e58cbe6",
    "collapsed": true
   },
   "outputs": [],
   "source": [
    "#Loading dataset\n",
    "wine = pd.read_csv('winequality-red.csv')"
   ]
  },
  {
   "cell_type": "code",
   "execution_count": 21,
   "metadata": {
    "_cell_guid": "019cbcee-6cb2-478c-922b-ccebe4962769",
    "_uuid": "45ff42953e9082cd55612a4774408cc97a05fb11"
   },
   "outputs": [
    {
     "data": {
      "text/html": [
       "<div>\n",
       "<style scoped>\n",
       "    .dataframe tbody tr th:only-of-type {\n",
       "        vertical-align: middle;\n",
       "    }\n",
       "\n",
       "    .dataframe tbody tr th {\n",
       "        vertical-align: top;\n",
       "    }\n",
       "\n",
       "    .dataframe thead th {\n",
       "        text-align: right;\n",
       "    }\n",
       "</style>\n",
       "<table border=\"1\" class=\"dataframe\">\n",
       "  <thead>\n",
       "    <tr style=\"text-align: right;\">\n",
       "      <th></th>\n",
       "      <th>fixed acidity</th>\n",
       "      <th>volatile acidity</th>\n",
       "      <th>citric acid</th>\n",
       "      <th>residual sugar</th>\n",
       "      <th>chlorides</th>\n",
       "      <th>free sulfur dioxide</th>\n",
       "      <th>total sulfur dioxide</th>\n",
       "      <th>density</th>\n",
       "      <th>pH</th>\n",
       "      <th>sulphates</th>\n",
       "      <th>alcohol</th>\n",
       "      <th>quality</th>\n",
       "    </tr>\n",
       "  </thead>\n",
       "  <tbody>\n",
       "    <tr>\n",
       "      <th>0</th>\n",
       "      <td>7.4</td>\n",
       "      <td>0.70</td>\n",
       "      <td>0.00</td>\n",
       "      <td>1.9</td>\n",
       "      <td>0.076</td>\n",
       "      <td>11.0</td>\n",
       "      <td>34.0</td>\n",
       "      <td>0.9978</td>\n",
       "      <td>3.51</td>\n",
       "      <td>0.56</td>\n",
       "      <td>9.4</td>\n",
       "      <td>5</td>\n",
       "    </tr>\n",
       "    <tr>\n",
       "      <th>1</th>\n",
       "      <td>7.8</td>\n",
       "      <td>0.88</td>\n",
       "      <td>0.00</td>\n",
       "      <td>2.6</td>\n",
       "      <td>0.098</td>\n",
       "      <td>25.0</td>\n",
       "      <td>67.0</td>\n",
       "      <td>0.9968</td>\n",
       "      <td>3.20</td>\n",
       "      <td>0.68</td>\n",
       "      <td>9.8</td>\n",
       "      <td>5</td>\n",
       "    </tr>\n",
       "    <tr>\n",
       "      <th>2</th>\n",
       "      <td>7.8</td>\n",
       "      <td>0.76</td>\n",
       "      <td>0.04</td>\n",
       "      <td>2.3</td>\n",
       "      <td>0.092</td>\n",
       "      <td>15.0</td>\n",
       "      <td>54.0</td>\n",
       "      <td>0.9970</td>\n",
       "      <td>3.26</td>\n",
       "      <td>0.65</td>\n",
       "      <td>9.8</td>\n",
       "      <td>5</td>\n",
       "    </tr>\n",
       "    <tr>\n",
       "      <th>3</th>\n",
       "      <td>11.2</td>\n",
       "      <td>0.28</td>\n",
       "      <td>0.56</td>\n",
       "      <td>1.9</td>\n",
       "      <td>0.075</td>\n",
       "      <td>17.0</td>\n",
       "      <td>60.0</td>\n",
       "      <td>0.9980</td>\n",
       "      <td>3.16</td>\n",
       "      <td>0.58</td>\n",
       "      <td>9.8</td>\n",
       "      <td>6</td>\n",
       "    </tr>\n",
       "    <tr>\n",
       "      <th>4</th>\n",
       "      <td>7.4</td>\n",
       "      <td>0.70</td>\n",
       "      <td>0.00</td>\n",
       "      <td>1.9</td>\n",
       "      <td>0.076</td>\n",
       "      <td>11.0</td>\n",
       "      <td>34.0</td>\n",
       "      <td>0.9978</td>\n",
       "      <td>3.51</td>\n",
       "      <td>0.56</td>\n",
       "      <td>9.4</td>\n",
       "      <td>5</td>\n",
       "    </tr>\n",
       "  </tbody>\n",
       "</table>\n",
       "</div>"
      ],
      "text/plain": [
       "   fixed acidity  volatile acidity  citric acid  residual sugar  chlorides  \\\n",
       "0            7.4              0.70         0.00             1.9      0.076   \n",
       "1            7.8              0.88         0.00             2.6      0.098   \n",
       "2            7.8              0.76         0.04             2.3      0.092   \n",
       "3           11.2              0.28         0.56             1.9      0.075   \n",
       "4            7.4              0.70         0.00             1.9      0.076   \n",
       "\n",
       "   free sulfur dioxide  total sulfur dioxide  density    pH  sulphates  \\\n",
       "0                 11.0                  34.0   0.9978  3.51       0.56   \n",
       "1                 25.0                  67.0   0.9968  3.20       0.68   \n",
       "2                 15.0                  54.0   0.9970  3.26       0.65   \n",
       "3                 17.0                  60.0   0.9980  3.16       0.58   \n",
       "4                 11.0                  34.0   0.9978  3.51       0.56   \n",
       "\n",
       "   alcohol  quality  \n",
       "0      9.4        5  \n",
       "1      9.8        5  \n",
       "2      9.8        5  \n",
       "3      9.8        6  \n",
       "4      9.4        5  "
      ]
     },
     "execution_count": 21,
     "metadata": {},
     "output_type": "execute_result"
    }
   ],
   "source": [
    "#Let's check how the data is distributed\n",
    "wine.head()"
   ]
  },
  {
   "cell_type": "code",
   "execution_count": 22,
   "metadata": {
    "_cell_guid": "704f4830-5804-436d-9b78-6ca00f5ae510",
    "_uuid": "af141503385967f92d409c5e111e2724b4c9636f"
   },
   "outputs": [
    {
     "name": "stdout",
     "output_type": "stream",
     "text": [
      "<class 'pandas.core.frame.DataFrame'>\n",
      "RangeIndex: 1599 entries, 0 to 1598\n",
      "Data columns (total 12 columns):\n",
      " #   Column                Non-Null Count  Dtype  \n",
      "---  ------                --------------  -----  \n",
      " 0   fixed acidity         1599 non-null   float64\n",
      " 1   volatile acidity      1599 non-null   float64\n",
      " 2   citric acid           1599 non-null   float64\n",
      " 3   residual sugar        1599 non-null   float64\n",
      " 4   chlorides             1599 non-null   float64\n",
      " 5   free sulfur dioxide   1599 non-null   float64\n",
      " 6   total sulfur dioxide  1599 non-null   float64\n",
      " 7   density               1599 non-null   float64\n",
      " 8   pH                    1599 non-null   float64\n",
      " 9   sulphates             1599 non-null   float64\n",
      " 10  alcohol               1599 non-null   float64\n",
      " 11  quality               1599 non-null   int64  \n",
      "dtypes: float64(11), int64(1)\n",
      "memory usage: 150.0 KB\n"
     ]
    }
   ],
   "source": [
    "#Information about the data columns\n",
    "wine.info()"
   ]
  },
  {
   "cell_type": "markdown",
   "metadata": {
    "_cell_guid": "12b9e3c1-006d-4b1d-b01d-02be5a594bbb",
    "_uuid": "e9ad3ce0e67ea7a5178222164d784a974846bc54"
   },
   "source": [
    "## **Let's do some plotting to know how the data columns are distributed in the dataset**"
   ]
  },
  {
   "cell_type": "code",
   "execution_count": 23,
   "metadata": {
    "_cell_guid": "f6a9d2eb-e03c-4c8b-8d7f-c0cb735d9ce9",
    "_uuid": "255e8fd04c90eae23164df043ebf16550ecff8fe"
   },
   "outputs": [
    {
     "data": {
      "text/plain": [
       "<Axes: xlabel='quality', ylabel='fixed acidity'>"
      ]
     },
     "execution_count": 23,
     "metadata": {},
     "output_type": "execute_result"
    },
    {
     "data": {
      "image/png": "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",
      "text/plain": [
       "<Figure size 1000x600 with 1 Axes>"
      ]
     },
     "metadata": {},
     "output_type": "display_data"
    }
   ],
   "source": [
    "#Here we see that fixed acidity does not give any specification to classify the quality.\n",
    "fig = plt.figure(figsize = (10,6))\n",
    "sns.barplot(x = 'quality', y = 'fixed acidity', data = wine)"
   ]
  },
  {
   "cell_type": "code",
   "execution_count": 24,
   "metadata": {
    "_cell_guid": "7d7355dc-9c09-4e5e-8989-87f903197898",
    "_uuid": "158a576b3fb80cc0978c322663bc5060d8977be0"
   },
   "outputs": [
    {
     "data": {
      "text/plain": [
       "<Axes: xlabel='quality', ylabel='volatile acidity'>"
      ]
     },
     "execution_count": 24,
     "metadata": {},
     "output_type": "execute_result"
    },
    {
     "data": {
      "image/png": "iVBORw0KGgoAAAANSUhEUgAAA04AAAINCAYAAAAJGy/3AAAAOnRFWHRTb2Z0d2FyZQBNYXRwbG90bGliIHZlcnNpb24zLjEwLjAsIGh0dHBzOi8vbWF0cGxvdGxpYi5vcmcvlHJYcgAAAAlwSFlzAAAPYQAAD2EBqD+naQAAK85JREFUeJzt3QuclWWdB/D/AAICMmgqhKKUl7yBKCYfSNMWCtNFLNdYcgNJ6eqWYqSkgJdNUhNxV8vEFN1ScCvFsixjwy5SJMp22dS8ggaIUYCjgcLs53n3MxMjAw+jM3PmzPl+P5/3w3mf877n/EffufzO87zPU1VbW1sbAAAAbFOHbT8FAABAIjgBAABkCE4AAAAZghMAAECG4AQAAJAhOAEAAGQITgAAABmCEwAAQEanqDCbN2+OP/3pT7HLLrtEVVVVqcsBAABKpLa2NtavXx99+/aNDh2236dUccEphaZ+/fqVugwAAKCNWL58eey9997bPabiglPqaar7j9OzZ89SlwMAAJTIunXrik6VuoywPRUXnOqG56XQJDgBAABVO3ALj8khAAAAMgQnAACADMEJAAAgQ3ACAADIEJwAAAAyBCcAAIAMwQkAACBDcAIAAMgQnAAAADIEJwAAgAzBCQAAIENwAgAAyBCcAAAAMgQnAACADMEJAAAgQ3ACAADIEJwAAAAyOuUOoH2pra2Nmpqa+v3u3btHVVVVSWsCAIC2TnCqMCk0jR49un5//vz50aNHj5LWBAAAbZ2hegAAABmCEwAAQIbgBAAAkCE4AQAAZAhOAAAAGYITAABAhuAEAACQITgBAABkCE4AAAAZghMAAECG4AQAAJAhOAEAAGQITgAAABmCEwAAQIbgBAAAkCE4AQAAZAhOAAAAGYITAABAhuAEAACQITgBAABkCE4AAAAZghMAAECG4AQAAJAhOAEAAGQITgAAABmCEwAAQIbgBAAAkCE4AQAAZAhOAAAAGYITAABAhuAEAACQITgBAABkCE4AAABtOTj99Kc/jVGjRkXfvn2jqqoq7r777uw5CxcujCOPPDK6dOkS+++/f8yZM6dVagUAACpXSYNTTU1NHH744XH99dfv0PFPP/10nHTSSfGe97wnli5dGuecc06cddZZ8cMf/rDFawUAACpXp1K++fvf//5i21E33HBDvO1tb4urr7662D/44IPj5z//eVxzzTUxcuTIFqwUAACoZGV1j9OiRYtixIgRDdpSYErt27Jhw4ZYt25dgw0AAKDdBqeVK1dG7969G7Sl/RSGXnnllUbPmTFjRlRXV9dv/fr1a6VqAQCA9qKsgtMbMWXKlFi7dm39tnz58lKXBAAAlJmS3uPUVH369IlVq1Y1aEv7PXv2jJ133rnRc9Lse2kDAACoiB6noUOHxoIFCxq03X///UU7AABAuwxOL730UjGteNrqphtPj5ctW1Y/zG7cuHH1x3/iE5+Ip556Kj7/+c/Ho48+Gl/5ylfizjvvjHPPPbdkXwMAAND+lTQ4PfTQQ3HEEUcUWzJp0qTi8bRp04r9FStW1IeoJE1Ffu+99xa9TGn9pzQt+U033WQqcgAAoP3e43T88cdHbW3tNp+fM2dOo+c88sgjLVwZAABAmd7jBAAAUAqCEwAAQIbgBAAAkCE4AQAAZAhOAAAAGYITAABAhuAEAACQITgBAABkCE4AAAAZghMAAECG4AQAAJAhOAEAAGQITgAAABmCEwAAQIbgBAAAkCE4AQAAZAhOAAAAGYITAABAhuAEAACQITgBAABkCE4AAAAZghMAAECG4AQAAJAhOAEAAGQITgAAABmCEwAAQIbgBAAAkCE4AQAAZAhOAAAAGYITAABAhuAEAACQITgBAABkCE4AAAAZghMAAECG4AQAAJAhOAEAAGQITgAAABmCEwAAQIbgBAAAkCE4AQAAZHTKHcD/Gzz5tmgPql7bGNVb7B8/dW7Uduoc5W7JVeNKXQIAAO2YHicAAIAMwQkAACBDcAIAAMgQnAAAADIEJwAAgAzBCQAAIENwAgAAyBCcAAAAMgQnAACADMEJAAAgQ3ACAADIEJwAAAAyBCcAAIAMwQkAACBDcAIAAMgQnAAAADIEJwAAgAzBCQAAIENwAgAAyBCcAAAAMgQnAACADMEJAAAgQ3ACAADIEJwAAAAyBCcAAIAMwQkAACBDcAIAAMgQnAAAANp6cLr++uujf//+0bVr1xgyZEgsXrx4u8fPmjUr3vGOd8TOO+8c/fr1i3PPPTf+9re/tVq9AABA5SlpcJo3b15MmjQppk+fHg8//HAcfvjhMXLkyHjhhRcaPf7222+PCy64oDj+D3/4Q3z9618vXuMLX/hCq9cOAABUjpIGp5kzZ8bEiRNjwoQJccghh8QNN9wQ3bp1i5tvvrnR4x988MF417veFR/+8IeLXqr3ve99MXbs2GwvFQAAQFkGp40bN8aSJUtixIgRfy+mQ4dif9GiRY2eM2zYsOKcuqD01FNPxfe///048cQTW61uAACg8nQq1Ru/+OKLsWnTpujdu3eD9rT/6KOPNnpO6mlK5x1zzDFRW1sbr732WnziE5/Y7lC9DRs2FFuddevWNeNXAQAAVIKSTw7RFAsXLozLL788vvKVrxT3RH3nO9+Je++9Ny677LJtnjNjxoyorq6u39KEEgAAAGXR47T77rtHx44dY9WqVQ3a036fPn0aPWfq1KnxkY98JM4666xif8CAAVFTUxMf+9jH4sILLyyG+r3elClTigkotuxxEp4AAICy6HHq3LlzDB48OBYsWFDftnnz5mJ/6NChjZ7z8ssvbxWOUvhK0tC9xnTp0iV69uzZYAMAACiLHqck9QSNHz8+jjrqqDj66KOLNZpSD1KaZS8ZN25c7LXXXsVwu2TUqFHFTHxHHHFEsebTE088UfRCpfa6AAUAANCugtOYMWNi9erVMW3atFi5cmUMGjQo7rvvvvoJI5YtW9agh+miiy6Kqqqq4t/nn38+9thjjyI0ffGLXyzhVwEAALR3VbXbGuPWTqV7nNIkEWvXrm3SsL3Bk2+L9qDqtY1R/Zs76vfXDhwbtZ06R7lbctW4UpcAAEA7zgZlNaseAABAKQhOAAAAGYITAABAhuAEAACQITgBAABkCE4AAAAZghMAAECG4AQAAJAhOAEAAGQITgAAABmCEwAAQEan3AFA+1JbWxs1NTX1+927d4+qqqqS1gQA0NYJTlBhUmgaPXp0/f78+fOjR48eJa0JAKCtM1QPAAAgQ3ACAADIEJwAAAAyBCcAAIAMwQkAACBDcAIAAMgQnAAAADIEJwAAgAzBCQAAIENwAgAAyBCcAAAAMgQnAACADMEJAAAgQ3ACAADIEJwAAAAyBCcAAIAMwQkAACBDcAIAAMjolDuA9qW2406xduDYBvsAAMD2CU6Vpqoqajt1LnUVAABQVgzVAwAAyBCcAAAAmjs43XLLLfHyyy839TQAAIDKucfpggsuiM9+9rNx2mmnxZlnnhnDhg1rmcqgjRk8+bZoD6pe2xjVW+wfP3Vuu7jvbclV40pdAgDQjjW5x+n555+PW2+9NV588cU4/vjj46CDDoorrrgiVq5c2TIVAgAAlFtw6tSpU3zgAx+I+fPnx/Lly2PixInxzW9+M/bZZ584+eSTi/bNmze3TLUAAADlNjlE796945hjjomhQ4dGhw4d4re//W2MHz8+9ttvv1i4cGHzVQkAAFBuwWnVqlXx5S9/OQ499NBiuN66devie9/7Xjz99NPFUL4PfehDRYACAACoyOA0atSo6NevX8yZM6cYppeC0h133BEjRowonu/evXucd955xTA+AACAipxVb88994wHHnigGJ63LXvssUfR+wQAAFCRPU7HHXdcHHnkkVu1b9y4MW677f+na66qqop99923eSoEAAAot+A0YcKEWLt27Vbt69evL54DAACISg9OtbW1RY/S6z333HNRXb3lspoAAAAVdo/TEUccUQSmtA0fPrxYz6nOpk2binuaTjjhhJaqEwAAoO0Hp1NOOaX4d+nSpTFy5Mjo0aNH/XOdO3eO/v37x6mnntoyVQIAAJRDcJo+fXrxbwpIY8aMia5du7ZkXQAAAOU7HbmFbQEAgEqzQ8Fpt912i8cffzx233332HXXXRudHKLOmjVrmrM+AACA8ghO11xzTeyyyy71j7cXnAAAACoyOG05PO+MM85oyXoAAADKMzitW7duh1+wZ8+eb6YeAACA8gxOvXr12uHheWlNJwAAgIoLTj/5yU/qHz/zzDNxwQUXFEP2hg4dWrQtWrQobr311pgxY0bLVQoAANCWg9Nxxx1X//jSSy+NmTNnxtixY+vbTj755BgwYEDceOONpisHAADanQ5NPSH1Lh111FFbtae2xYsXN1ddAAAA5Ruc+vXrF7Nnz96q/aabbiqeAwAAqMiheltK6zideuqp8YMf/CCGDBlStKWepj/+8Y/x7W9/uyVqBAAAKK8epxNPPDEef/zxGDVqVKxZs6bY0uPUlp4DAACISu9xStKQvMsvv7z5qwEAACjX4PSb3/wmDjvssOjQoUPxeHsGDhzYXLUBLaC2406xduDYBvsAADRDcBo0aFCsXLky9txzz+JxWgy3trZ2q+NSuwVwoY1L37+dOpe6CgCA9hecnn766dhjjz3qHwMAAFSSHQpO++67b6OPAQAAKkGTZ9WbMWNG3HzzzVu1p7YrrriiueoCAAAo3+D0ta99LQ466KCt2g899NC44YYbmqsuAACA8g1OaZKIt771rVu1p3ugVqxY0Vx1AQAAlG9wSms4/eIXv9iqPbX17du3ueoCAAAo3+A0ceLEOOecc+KWW26JZ599ttjS/U3nnntu8VxTXX/99dG/f//o2rVrDBkyJBYvXrzd4//617/Gpz/96aLXq0uXLnHggQfG97///Sa/LwAAQLPOqrelyZMnx5///Of41Kc+FRs3bizaUug5//zzY8qUKU16rXnz5sWkSZOKe6NSaJo1a1aMHDkyHnvssWLNqNdL7/fe9763eO5b3/pW7LXXXkVw69WrV1O/DAAAgJYLTmmR2zR73tSpU+MPf/hD7LzzznHAAQcUvT9NNXPmzKKXasKECcV+ClD33ntv0YN1wQUXbHV8al+zZk08+OCDsdNOOxVtqbcKAACgTQ3Vq9OjR4945zvfGYcddtgbCk2p92jJkiUxYsSIvxfToUOxv2jRokbPueeee2Lo0KHFUL3evXsX73355ZfHpk2btvk+GzZsiHXr1jXYAAAAWrTHKXnooYfizjvvjGXLltUP16vzne98Z4de48UXXywCTwpAW0r7jz76aKPnPPXUU/Hf//3fcfrppxf3NT3xxBPFkMFXX301pk+fvs11py655JId/toAAADedI/T3LlzY9iwYcUwvbvuuqsILb///e+LQFNdXR0tafPmzcX9TTfeeGMMHjw4xowZExdeeOF2149K912tXbu2flu+fHmL1ggAALQ/Te5xSkPjrrnmmmK43C677BLXXnttvO1tb4uPf/zjja7vtC277757dOzYMVatWtWgPe336dOn0XPS66d7m9J5dQ4++OBibanU89W5c+etzknDCN/IUEKA9qq2tjZqamrq97t3717cvwoANGOP05NPPhknnXRS8TgFlfTLN/3CTdORp56gHZXOTb1GCxYsaNCjlPbTfUyNede73lUMz0vH1Xn88ceLQNVYaAJga+nn9ujRo+u3LUMUANBMwWnXXXeN9evXF4/TdOC/+93v6tdXevnll5v0Wmkq8tmzZ8ett95aDP375Cc/WfwCr5tlb9y4cQ2mOE/Pp1n1PvvZzxaBKc3Al3rAUu8XAABAmxmq9+53vzvuv//+GDBgQJx22mlFiEn3N6W24cOHN+m10j1Kq1evjmnTphXD7QYNGhT33Xdf/YQRafKJNNNenX79+sUPf/jDondr4MCBRXBL75/WkAIAAGgzwem6666Lv/3tb8XjNDFDuucorat06qmnxkUXXdTkAs4+++xia8zChQu3akvD+H75y182+X0AAABaLTjttttu9Y9Tb1BjC9UCAAC0J294AVwAAIBK8YYWwAWoVIMn3xblruq1jbHlqnvHT50btZ3Kf2bSJVeNK3UJALRjepwAAAAyBCcAAICWCk5pIdo0Nfgrr7xSvxI9AABAe9Tk4PTnP/85RowYEQceeGCceOKJsWLFiqL9zDPPjPPOO68lagQAACiv4JQWn+3UqVOxOG23bt0aLGabFq8FAACISp9V70c/+lExRG/vvfdu0H7AAQfEs88+25y1AQAAlGdwqqmpadDTVGfNmjXRpUuX5qoLgBZS23GnWDtwbIN9AKCZh+ode+yxcdttf1/HpKqqKjZv3hxXXnllvOc972nqywHQ2qqqinWb6ra0DwA0c49TCkjDhw+Phx56KDZu3Bif//zn4/e//33R4/SLX/yiqS8HAADQ/nqcDjvssHj88cfjmGOOidGjRxdD9z74wQ/GI488Evvtt1/LVAkAAFBOPU5JdXV1XHjhhc1fDQAAQLkGp9/85jc7/IIDBw58M/UAAACUZ3AaNGhQMQlEbW3tdo9Lx2zatKm5agMAACif4PT000+3fCUAAADlHJz23Xfflq8EAACgnIPTPffcE+9///tjp512Kh5vz8knn9xctQEAAJRPcDrllFNi5cqVseeeexaPt8U9TgAAQMUGp82bNzf6GAAAoBI0eQHc2267LTZs2LBV+8aNG4vnAAAAotKD04QJE2Lt2rVbta9fv754DgAAICo9OKW1nNK9TK/33HPPRXV1dXPVBQAAUF73OCVHHHFEEZjSNnz48OjU6e+npgkh0lpPJ5xwQkvVCQAA0PaDU91sekuXLo2RI0dGjx496p/r3Llz9O/fP0499dSWqRIAAKAcgtP06dOLf1NAGjNmTHTt2rUl6wIAACi/4FRn/PjxLVMJAABAewlO6X6ma665Ju68885YtmxZMQ35ltasWdOc9QEAzSxN9FRTU1O/371790YnfgLgTcyqd8kll8TMmTOL4XppWvJJkybFBz/4wejQoUNcfPHFTX05AKCVpdA0evTo+m3LEAVAMwWnb37zmzF79uw477zzipn1xo4dGzfddFNMmzYtfvnLXzb15QAAANpfcFq5cmUMGDCgeJxm1qtbDPcf//Ef4957723+CgEAAMotOO29996xYsWK4vF+++0XP/rRj4rHv/71r6NLly7NXyEAAEC5BacPfOADsWDBguLxv/7rv8bUqVPjgAMOiHHjxsVHP/rRlqgRAABogYliXnrppfot7dOMs+p96Utfqn+cJojYZ599YtGiRUV4GjVqVHPXBwBtyuDJt0W5q3ptY1RvsX/81LlR26lzlLslV40rdQlQlhPF1Jk/f35xKw7NFJxeb+jQocUGAABQ0cHpnnvu2eEXPPnkk99MPQAAAOUZnE455ZQderG0eF5aIBcAAKDigtPmzZtbvhIAAID2MqseAABApXlDwemBBx4oZtDbf//9iy3d1/Szn/2s+asDAAAox+D0jW98I0aMGBHdunWLz3zmM8W28847x/Dhw+P2229vmSoBgGZT23GnWDtwbP2W9gFo5unIv/jFL8aVV14Z5557bn1bCk8zZ86Myy67LD784Q839SUBgNZUVdUu1m0CaNM9Tk899VSjC92m4XpPP/10c9UFAABQvsGpX79+sWDBgq3af/zjHxfPAQAARKUP1TvvvPOKoXlLly6NYcOGFW2/+MUvYs6cOXHttde2RI0AAADlFZw++clPRp8+feLqq6+OO++8s2g7+OCDY968eTF69OiWqBEAAKC8glPygQ98oNgAAAAqQZPvcTrrrLNi4cKFLVMNAABAewhOq1evjhNOOKGYCGLy5MnFvU4AAADtWZOD0/z582PFihUxderU+PWvfx2DBw+OQw89NC6//PJ45plnWqZKAACAcgpOya677hof+9jHiiF7zz77bJxxxhnxn//5n7H//vs3f4UAAADlGJzqvPrqq/HQQw/Fr371q6K3qXfv3s1XGQAAQDkHp5/85CcxceLEIiil3qaePXvG9773vXjuueeav0IAAIBym458r732ijVr1hQTRNx4440xatSo6NKlS8tUBwAAUI7B6eKLL47TTjstevXq1TIVAQAAlHtwSkP0AAAAKsmbmhwCAACgEghOAAAAGYITAABAhuAEAACQITgBAAA096x6AACUv9ra2qipqanf7969e1RVVZW0JmjLBCcAgAqUQtPo0aPr9+fPnx89evQoaU3QlglOAADQBIMn3xbtQdVrG6N6i/3jp86N2k6do5wtuWpci722e5wAAAAyBCcAAIAMwQkAACBDcAIAACiH4HT99ddH//79o2vXrjFkyJBYvHjxDp03d+7cYtrMU045pcVrBAAAKlfJg9O8efNi0qRJMX369Hj44Yfj8MMPj5EjR8YLL7yw3fOeeeaZ+NznPhfHHntsq9UKAABUppIHp5kzZ8bEiRNjwoQJccghh8QNN9wQ3bp1i5tvvnmb52zatClOP/30uOSSS+Ltb397q9YLAABUnpKu47Rx48ZYsmRJTJkypb6tQ4cOMWLEiFi0aNE2z7v00ktjzz33jDPPPDN+9rOftVK1AADW8KnUNXygpMHpxRdfLHqPevfu3aA97T/66KONnvPzn/88vv71r8fSpUt36D02bNhQbHXWrVv3JqsGAAAqTcmH6jXF+vXr4yMf+UjMnj07dt999x06Z8aMGVFdXV2/9evXr8XrBAAA2peS9jil8NOxY8dYtWpVg/a036dPn62Of/LJJ4tJIUaNGlXftnnz5uLfTp06xWOPPRb77bdfg3PSMMA0+cSWPU7CEwAAUDbBqXPnzjF48OBYsGBB/ZTiKQil/bPPPnur4w866KD47W9/26DtoosuKnqirr322kYDUZcuXYoNAACgLINTknqDxo8fH0cddVQcffTRMWvWrKipqSlm2UvGjRsXe+21VzHkLq3zdNhhhzU4v1evXsW/r28HAABoN8FpzJgxsXr16pg2bVqsXLkyBg0aFPfdd1/9hBHLli0rZtoDAACo2OCUpGF5jQ3NSxYuXLjdc+fMmdNCVQEAAPw/XTkAAADl0OMEAEDrqu24U6wdOLbBPrBtghMAQCWqqoraTp1LXQWUDUP1AAAAMgQnAACADMEJAAAgQ3ACAADIEJwAAAAyBCcAAIAMwQkAACDDOk4AAFCBLILcNIITAABUIosgN4mhegAAABmCEwAAQIbgBAAAkCE4AQAAZAhOAAAAGYITAABAhuAEAACQITgBAABkCE4AAAAZghMAAECG4AQAAJAhOAEAAGQITgAAABmCEwAAQIbgBAAAkCE4AQAAZAhOAAAAGYITAABAhuAEAACQITgBAABkCE4AAAAZghMAAECG4AQAAJAhOAEAAGQITgAAABmCEwAAQIbgBAAAkCE4AQAAZAhOAAAAGYITAABAhuAEAACQITgBAABkCE4AAAAZghMAAECG4AQAAJAhOAEAAGQITgAAABmCEwAAQIbgBAAAkCE4AQAAZAhOAAAAGYITAABAhuAEAACQITgBAABkCE4AAAAZghMAAECG4AQAAJAhOAEAAGQITgAAABmCEwAAQIbgBAAAkCE4AQAAZAhOAAAAGYITAABAhuAEAACQITgBAABkCE4AAAAZghMAAEA5BKfrr78++vfvH127do0hQ4bE4sWLt3ns7Nmz49hjj41dd9212EaMGLHd4wEAAMo+OM2bNy8mTZoU06dPj4cffjgOP/zwGDlyZLzwwguNHr9w4cIYO3Zs/OQnP4lFixZFv3794n3ve188//zzrV47AABQGUoenGbOnBkTJ06MCRMmxCGHHBI33HBDdOvWLW6++eZGj//mN78Zn/rUp2LQoEFx0EEHxU033RSbN2+OBQsWtHrtAABAZShpcNq4cWMsWbKkGG5XX1CHDsV+6k3aES+//HK8+uqrsdtuuzX6/IYNG2LdunUNNgAAgLIJTi+++GJs2rQpevfu3aA97a9cuXKHXuP888+Pvn37NghfW5oxY0ZUV1fXb2loHwAAQFkN1XszvvSlL8XcuXPjrrvuKiaWaMyUKVNi7dq19dvy5ctbvU4AAKC8dSrlm+++++7RsWPHWLVqVYP2tN+nT5/tnvvlL3+5CE4//vGPY+DAgds8rkuXLsUGAABQlj1OnTt3jsGDBzeY2KFuooehQ4du87wrr7wyLrvssrjvvvviqKOOaqVqAQCASlXSHqckTUU+fvz4IgAdffTRMWvWrKipqSlm2UvGjRsXe+21V3GvUnLFFVfEtGnT4vbbby/Wfqq7F6pHjx7FBgAA0O6C05gxY2L16tVFGEohKE0znnqS6iaMWLZsWTHTXp2vfvWrxWx8//RP/9TgddI6UBdffHGr1w8AALR/JQ9Oydlnn11s21rwdkvPPPNMK1UFAADQDmbVAwAAaA2CEwAAQIbgBAAAkCE4AQAAZAhOAAAAGYITAABAhuAEAACQITgBAABkCE4AAAAZghMAAECG4AQAAJAhOAEAAGQITgAAABmCEwAAQIbgBAAAkCE4AQAAZAhOAAAAGYITAABAhuAEAACQITgBAABkCE4AAAAZghMAAECG4AQAAJAhOAEAAGQITgAAABmCEwAAQIbgBAAAkCE4AQAAZAhOAAAAGYITAABAhuAEAACQITgBAABkCE4AAAAZghMAAECG4AQAAJAhOAEAAGQITgAAABmCEwAAQIbgBAAAkCE4AQAAZAhOAAAAGYITAABAhuAEAACQITgBAABkCE4AAAAZghMAAECG4AQAAJAhOAEAAGQITgAAABmCEwAAQIbgBAAAkCE4AQAAZAhOAAAAGYITAABAhuAEAACQITgBAABkCE4AAAAZghMAAECG4AQAAJAhOAEAAGQITgAAABmCEwAAQIbgBAAAkCE4AQAAZAhOAAAAGYITAABAhuAEAACQITgBAABkCE4AAAAZghMAAEA5BKfrr78++vfvH127do0hQ4bE4sWLt3v8f/3Xf8VBBx1UHD9gwID4/ve/32q1AgAAlafkwWnevHkxadKkmD59ejz88MNx+OGHx8iRI+OFF15o9PgHH3wwxo4dG2eeeWY88sgjccoppxTb7373u1avHQAAqAwlD04zZ86MiRMnxoQJE+KQQw6JG264Ibp16xY333xzo8dfe+21ccIJJ8TkyZPj4IMPjssuuyyOPPLIuO6661q9dgAAoDJ0KuWbb9y4MZYsWRJTpkypb+vQoUOMGDEiFi1a1Og5qT31UG0p9VDdfffdjR6/YcOGYquzdu3a4t9169Y1qdZNG15p0vG0rqb+/3wjXANtW2tcA4nroO1yDeAawDXAuiZeA3XH19bWtu3g9OKLL8amTZuid+/eDdrT/qOPPtroOStXrmz0+NTemBkzZsQll1yyVXu/fv3eVO20LdX/8YlSl0CJuQZwDeAawDVA9Ru8BtavXx/V1dVtNzi1htSbtWUP1ebNm2PNmjXxlre8JaqqqqISpWSdguPy5cujZ8+epS6HEnAN4BrANUDiOqDSr4Ha2toiNPXt2zd7bEmD0+677x4dO3aMVatWNWhP+3369Gn0nNTelOO7dOlSbFvq1avXm669PUjfHJX4DcLfuQZwDeAaIHEdUMnXQHWmp6lNTA7RuXPnGDx4cCxYsKBBj1DaHzp0aKPnpPYtj0/uv//+bR4PAADwZpV8qF4aRjd+/Pg46qij4uijj45Zs2ZFTU1NMcteMm7cuNhrr72Ke5WSz372s3HcccfF1VdfHSeddFLMnTs3HnroobjxxhtL/JUAAADtVcmD05gxY2L16tUxbdq0YoKHQYMGxX333Vc/AcSyZcuKmfbqDBs2LG6//fa46KKL4gtf+EIccMABxYx6hx12WAm/ivKShi6mdbNeP4SRyuEawDWAa4DEdYBrYMdV1e7I3HsAAAAVrOQL4AIAALR1ghMAAECG4AQAAJAhOAEAAGQIThXkq1/9agwcOLB+gbO09tUPfvCDUpdFiXzpS1+KqqqqOOecc0pdCq3o4osvLv6/b7kddNBBpS6LVvb888/Hv/zLv8Rb3vKW2HnnnWPAgAHF0h5Uhv79+2/1cyBtn/70p0tdGq1k06ZNMXXq1Hjb295W/AzYb7/94rLLLgtzxrXx6chpPXvvvXfxx3Kawj19Y9x6660xevToeOSRR+LQQw8tdXm0ol//+tfxta99rQjSVJ70/f7jH/+4fr9TJ78KKslf/vKXeNe73hXvec97ig/P9thjj/jjH/8Yu+66a6lLoxV/B6Q/nOv87ne/i/e+971x2mmnlbQuWs8VV1xRfKCe/hZMvxPSBydpDdXq6ur4zGc+U+ry2iy/LSvIqFGjGux/8YtfLL5pfvnLXwpOFeSll16K008/PWbPnh3/9m//VupyKIEUlPr06VPqMijhH0z9+vWLW265pb4tfepM5UhheUvpQ9XU43DccceVrCZa14MPPlh8eH7SSSfV90LecccdsXjx4lKX1qYZqleh0idNc+fOjZqammLIHpUjDcVIPyhHjBhR6lIokdS70Ldv33j7299ehOi00DiV45577omjjjqq6F3Yc88944gjjig+SKEybdy4Mb7xjW/ERz/60WK4HpVh2LBhsWDBgnj88ceL/f/5n/+Jn//85/H+97+/1KW1aXqcKsxvf/vbIij97W9/ix49esRdd90VhxxySKnLopWksPzwww8XwzSoTEOGDIk5c+bEO97xjlixYkVccsklceyxxxZDdXbZZZdSl0creOqpp4rRBpMmTYovfOELxc+DNDSnc+fOMX78+FKXRyu7++67469//WucccYZpS6FVnTBBRfEunXrintcO3bsWHygnkYipQ/T2LaqWneBVdwnS+nT5bVr18a3vvWtuOmmm+KBBx4QnirA8uXLi0+Z77///vp7m44//vgYNGhQzJo1q9TlUSLpD6Z99903Zs6cGWeeeWapy6EVpICUfhakoTp1UnBKAWrRokUlrY3WN3LkyOKa+O53v1vqUmjlD1InT54cV111VXG7xtKlS4vJotLvAh+gbJsepwqTfjjuv//+xePBgwcXvyivvfbaYqIA2rclS5bECy+8EEceeWR9W/qE6ac//Wlcd911sWHDhuJTJypLr1694sADD4wnnnii1KXQSt761rdu9WHZwQcfHN/+9rdLVhOl8eyzzxYTxXznO98pdSm0shSaUq/TP//zPxf7aWbNdD3MmDFDcNoOwanCbd68ufiDmfZv+PDhxVDNLaUZdFI3/fnnny80VfBkIU8++WR85CMfKXUptJI0o95jjz3WoC3d55B6HqksaYKQdJ9b3QQBVI6XX345OnRoONVB+jsg/V3ItglOFWTKlCnFTX/77LNPrF+/Pm6//fZYuHBh/PCHPyx1abSCdP/KYYcd1qCte/fuxTour2+n/frc5z5XzLCZ/kj+05/+FNOnTy9+WY4dO7bUpdFKzj333OLG8Msvvzw+9KEPFbNo3XjjjcVG5Uh/IKfglHoXLElQedLvgXRPU/qbMA3VS0vTpGF6aZIQts13SgVJw7TGjRtX3BCe5ulP97mk0JTWbgAqw3PPPVeEpD//+c/FlMTHHHNMsSTB66cnpv165zvfWUwMlD5Mu/TSS4upyNN9jm4KryxpiF6659kfypXpP/7jP4oFcD/1qU8Vfx+mmVY//vGPx7Rp00pdWptmcggAAIAM6zgBAABkCE4AAAAZghMAAECG4AQAAJAhOAEAAGQITgAAABmCEwAAQIbgBAARcfHFF8egQYPq988444w45ZRTSloTAG1Hp1IXAABt0bXXXhtbrhF//PHHF8Fq1qxZJa0LgNIQnACgEdXV1aUuAYA2xFA9ANq8mpqaGDduXPTo0SPe+ta3xtVXX130AJ1zzjnF81VVVXH33Xc3OKdXr14xZ86c+v3zzz8/DjzwwOjWrVu8/e1vj6lTp8arr766zffccqheevzAAw8UvVDpvdL29NNPx/777x9f/vKXG5y3dOnS4vknnniimf8rAFBKghMAbd7kyZOL4DJ//vz40Y9+FAsXLoyHH364Sa+xyy67FEHqf//3f4sANHv27Ljmmmt26Nx0/NChQ2PixImxYsWKYttnn33iox/9aNxyyy0Njk377373u4tQBUD7ITgB0Ka99NJL8fWvf73o2Rk+fHgMGDAgbr311njttdea9DoXXXRRDBs2LPr37x+jRo2Kz33uc3HnnXfu8LC9zp07F71Vffr0KbaOHTsWPVGPPfZYLF68uDgu9WDdfvvtRaACoH1xjxMAbdqTTz4ZGzdujCFDhtS37bbbbvGOd7yjSa8zb968+Pd///fi9VIYS8GrZ8+eb6q2vn37xkknnRQ333xzHH300fHd7343NmzYEKeddtqbel0A2h49TgCUvXRP0ZYz4CVb3r+0aNGiOP300+PEE0+M733ve/HII4/EhRdeWASyN+uss86KuXPnxiuvvFIM0xszZkzRMwVA+6LHCYA2bb/99ouddtopfvWrXxX3FSV/+ctf4vHHH4/jjjuu2N9jjz2K+47q/PGPf4yXX365fv/BBx+MfffdtwhLdZ599tkm1ZGG6m3atGmr9hTGunfvHl/96lfjvvvui5/+9Kdv6OsEoG0TnABo09JMemeeeWYxQcRb3vKW2HPPPYsA1KHD3wdN/MM//ENcd911xQQOKdykGfRS2KpzwAEHxLJly4qeoXe+851x7733xl133dWkOtK9USm8PfPMM0VNabhgqqHuXqcpU6YU75NqAKD9MVQPgDbvqquuimOPPbaY1GHEiBFxzDHHxODBg+ufT9OT9+vXrzjmwx/+cDHxw5bD5U4++eQ499xz4+yzzy4WsU09UGk68qZIr5lC0iGHHFL0cKUgVicFuzTsb8KECc30FQPQ1lTVvn5QOACUgbSOUwpBs2bNKnUp8bOf/ayY8W/58uXRu3fvUpcDQAswVA8A3qA0g97q1avj4osvLmbSE5oA2i9D9QDgDbrjjjuKSSf++te/xpVXXlnqcgBoQYbqAQAAZOhxAgAAyBCcAAAAMgQnAACADMEJAAAgQ3ACAADIEJwAAAAyBCcAAIAMwQkAACBDcAIAAIjt+z9felM5t/didwAAAABJRU5ErkJggg==",
      "text/plain": [
       "<Figure size 1000x600 with 1 Axes>"
      ]
     },
     "metadata": {},
     "output_type": "display_data"
    }
   ],
   "source": [
    "#Here we see that its quite a downing trend in the volatile acidity as we go higher the quality \n",
    "fig = plt.figure(figsize = (10,6))\n",
    "sns.barplot(x = 'quality', y = 'volatile acidity', data = wine)"
   ]
  },
  {
   "cell_type": "code",
   "execution_count": 25,
   "metadata": {
    "_cell_guid": "08f073d3-787b-4956-899b-6bd2bdf3cf91",
    "_uuid": "9600cd337636a7860a908fa36ad8084e230829ca"
   },
   "outputs": [
    {
     "data": {
      "text/plain": [
       "<Axes: xlabel='quality', ylabel='citric acid'>"
      ]
     },
     "execution_count": 25,
     "metadata": {},
     "output_type": "execute_result"
    },
    {
     "data": {
      "image/png": "iVBORw0KGgoAAAANSUhEUgAAA04AAAINCAYAAAAJGy/3AAAAOnRFWHRTb2Z0d2FyZQBNYXRwbG90bGliIHZlcnNpb24zLjEwLjAsIGh0dHBzOi8vbWF0cGxvdGxpYi5vcmcvlHJYcgAAAAlwSFlzAAAPYQAAD2EBqD+naQAAJnVJREFUeJzt3QuYV3Wd+PHPwDBcdUgREERYRUNSRLktroopyhqr0LYusRaELu3/MbaMZF1MblnhLcTSRwoltVToptiukcoTua4UBpK6XmM1CLlWchlbRof5P+f0MDFy+YIO85uZ3+v1POfhd86c32++6A+Y9++c8z0l1dXV1QEAAMA+Ndv3lwAAAMgIJwAAgAThBAAAkCCcAAAAEoQTAABAgnACAABIEE4AAAAJwgkAACChNIrMzp0744033ojDDjssSkpKCj0cAACgQKqrq2Pbtm3RpUuXaNZs/8eUii6csmjq1q1boYcBAAA0EGvWrIljjjlmv/sUXThlR5p2/cc5/PDDCz0cAACgQLZu3ZofVNnVCPtTdOG06/S8LJqEEwAAUHIAl/CYHAIAACBBOAEAACQIJwAAgAThBAAAkCCcAAAAEoQTAABAgnACAABIEE4AAAAJwgkAACBBOAEAACQIJwAAgAThBAAAkCCcAAAAEoQTAABAgnACAABIEE4AAAAJwgkAACChNLUDAADQ9FRXV0dFRUXNetu2baOkpKSgY2rIhBMAABShLJpGjBhRs75w4cJo165dQcfUkDlVDwAAIEE4AQAAJAgnAACABOEEAACQIJwAAAAShBMAAECCcAIAAEgQTgAAAAnCCQAAIEE4AQAAJAgnAACABOEEAACQIJwAAAAShBMAAECCcAIAAEgQTgAAAAnCCQAAIEE4AQAAJAgnAACABOEEAACQIJwAAAAShBMAAECCcAIAAEgQTgAAAAnCCQAAIEE4AQAAJAgnAACABOEEAACQIJwAAAAShBMAAECCcAIAAEgQTgAAAAnCCQAAIEE4AQAAJAgnAACABOEEAACQIJwAAAAShBMAAECCcAIAAEgQTgAAAAnCCQAAIEE4AQAAJAgnAACABOEEAACQIJwAAAAShBMAAECCcAIAAEgQTgAAAAnCCQAAIEE4AQAAJAgnAACABOEEAACQIJwAAAAShBMAAECCcAIAAEgQTgAAAAnCCQAAIEE4AQAAJAgnAACABOEEAACQIJwAAAAShBMAAECCcAIAAEgQTgAAAAnCCQAAoDGE0+233x49evSIVq1axaBBg2LZsmUH9Lz58+dHSUlJjBw58pCPEQAAKF4FD6cFCxbExIkTY9q0abFixYo49dRTY9iwYbFx48b9Pu/111+Pq666Ks4666x6GysAQFNRXV0d27dvr1mydaABh9OsWbNi/PjxMW7cuOjdu3fMmTMn2rRpE/Pmzdvnc6qqquLSSy+NGTNmxHHHHVev4wUAaAoqKipixIgRNUu2DjTQcKqsrIzly5fH0KFD/zKgZs3y9aVLl+7zeV/60peiY8eOcfnll9fTSAEAgGJWWshvvnnz5vzoUadOnWptz9ZfeumlvT7nySefjLvuuitWrlx5QN9jx44d+bLL1q1b3+eoAQCAYlPwU/UOxrZt2+KTn/xkzJ07Nzp06HBAz5k5c2aUl5fXLN26dTvk4wQAAJqWgh5xyuKnefPmsWHDhlrbs/XOnTvvsf+qVavySSEuuuiimm07d+7Mfy0tLY2XX345jj/++FrPmTx5cj75xO5HnMQTAADQaMKprKws+vXrF4sXL66ZUjwLoWx9woQJe+zfq1eveO6552ptu/baa/MjUbfeeuteg6hly5b5AgAA0CjDKZMdDRo7dmz0798/Bg4cGLNnz85ndclm2cuMGTMmunbtmp9yl93n6eSTT671/Pbt2+e/vns7AABAkwmnUaNGxaZNm2Lq1Kmxfv366Nu3byxatKhmwojVq1fnM+0BAAAUbThlstPy9nZqXmbJkiX7fe7dd999iEYFAADwZw7lAAAAJAgnAACAxnCqHgAANBb9Jt0bTUHJO5VRvtv6OVPmR3VpWTRmy28ac8he2xEnAACABOEEAACQIJwAAAAShBMAAECCcAIAAEgQTgAAAAnCCQAAIEE4AQAAJAgnAACABOEEAACQIJwAAAAShBMAAECCcAIAAEgQTgAAAAmlqR0AAPiLfpPujaag5J3KKN9t/Zwp86O6tKyAI3r/lt80ptBDoAlzxAkAACBBOAEAACQIJwAAgAThBAAAkCCcAAAAEoQTAABAgnACAABIEE4AAAAJwgkAACBBOAEAACQIJwAAgAThBAAAkCCcAAAAEoQTAABAgnACAABIEE4AAAAJwgkAACBBOAEAACQIJwAAgAThBAAAkCCcAAAAEoQTAABAgnACAABIEE4AAAAJwgkAACBBOAEAACSUpnYAAKDpqW7eIrb0GV1rHdg34QQAUIxKSqK6tKzQo4BGw6l6AAAACcIJAAAgQTgBAAAkCCcAAIAE4QQAAJAgnAAAABKEEwAAQIJwAgAASBBOAAAACcIJAAAgQTgBAAAkCCcAAIAE4QQAAJAgnAAAABKEEwAAQIJwAgAASBBOAAAACcIJAAAgQTgBAAAkCCcAAICE0tQONC3V1dVRUVFRs962bdsoKSkp6JgAAKChE05FJoumESNG1KwvXLgw2rVrV9AxAQBAQ+dUPQAAgAThBAAAkCCcAAAAEoQTAABAgnACAABIEE4AAAAJwgkAACBBOAEAACQIJwAAgAThBAAAkCCcAAAAEoQTAABAgnACAABIEE4AAACNIZxuv/326NGjR7Rq1SoGDRoUy5Yt2+e+P/rRj6J///7Rvn37aNu2bfTt2ze+853v1Ot4AQCA4lLwcFqwYEFMnDgxpk2bFitWrIhTTz01hg0bFhs3btzr/kcccUR88YtfjKVLl8azzz4b48aNy5ef/vSn9T52AACgOBQ8nGbNmhXjx4/P46d3794xZ86caNOmTcybN2+v+59zzjnx0Y9+NE466aQ4/vjj43Of+1z06dMnnnzyyXofOwAAUBwKGk6VlZWxfPnyGDp06F8G1KxZvp4dUUqprq6OxYsXx8svvxxnn332XvfZsWNHbN26tdYCAADQaMJp8+bNUVVVFZ06daq1PVtfv379Pp+3ZcuWaNeuXZSVlcXw4cPjG9/4Rpx//vl73XfmzJlRXl5es3Tr1q3Ofx8AAEDTVvBT9d6Lww47LFauXBlPP/10fOUrX8mvkVqyZMle9508eXIeWruWNWvW1Pt4AQCAxq20kN+8Q4cO0bx589iwYUOt7dl6586d9/m87HS+nj175o+zWfVefPHF/MhSdv3Tu7Vs2TJfAAAAGuURp+xUu379+uXXKe2yc+fOfH3w4MEH/DrZc7JrmQAAgANT3bxFbOkzumbJ1mmgR5wy2Wl2Y8eOze/NNHDgwJg9e3ZUVFTks+xlxowZE127ds2PKGWyX7N9sxn1slh65JFH8vs43XHHHQX+nQAAQCNSUhLVpWWFHkWjUfBwGjVqVGzatCmmTp2aTwiRnXq3aNGimgkjVq9enZ+at0sWVVdccUX87ne/i9atW0evXr3iu9/9bv46AAAATTKcMhMmTMiXvXn3pA9f/vKX8wUAAKC+NMpZ9QAAAIruiBMAUH+yG8hnp77v0rZt2ygpKSnomAAaOuEEAEUmi6YRI0bUrC9cuDC/sTwA++ZUPQAAgAThBAAAkCCcAAAAEoQTAABAgnACAACoi1n1Hn744ThQF1988QHvCwAA0GTCaeTIkbXWs3s9ZPeA2H19l6qqqrocHwAAQOM4VW/nzp01y6OPPhp9+/aNn/zkJ/Hmm2/myyOPPBKnn356LFq06NCPGAAAoKHfAPfKK6+MOXPmxJlnnlmzbdiwYdGmTZv49Kc/HS+++GJdjxEAAKBxTQ6xatWqaN++/R7by8vL4/XXX6+rcQEAADTecBowYEBMnDgxNmzYULMtezxp0qQYOHBgXY8PAACg8YXTvHnzYt26dXHsscdGz5498yV7vHbt2rjrrrsOzSgBAAAa0zVOWSg9++yz8dhjj8VLL72UbzvppJNi6NChtWbXAwAAKNpwymSBdMEFF+QLAABAU3dA4fT1r389nzGvVatW+eP9+exnP1tXYwOABqffpHujsSt5pzLKd1s/Z8r8qC4ti8Zu+U1jCj0EoNjD6ZZbbolLL700D6fs8f6ORAknAACgKMPptdde2+tjAACAYnDQs+oBAAAUm4MOp4997GNxww037LH9xhtvjEsuuaSuxgUAANB4w+mJJ56Ij3zkI3tsv/DCC/OvAQAARLGH0/bt26OsbM+Zd1q0aBFbt26tq3EBAAA03nA65ZRTYsGCBXtsnz9/fvTu3buuxgUAANB4b4A7ZcqU+Pu///tYtWpVnHvuufm2xYsXxwMPPBDf//73D8UYAQAAGlc4XXTRRfHQQw/FV7/61fjBD34QrVu3jj59+sTjjz8eQ4YMOTSjBAAAaEzhlBk+fHi+AAAAFAP3cQIAAKjrI05VVVVxyy23xPe+971YvXp1VFZW1vr6H/7wh4N9SQAAgKZ1xGnGjBkxa9asGDVqVGzZsiUmTpyYTxbRrFmzmD59+qEZJQAAQGMKp/vuuy/mzp0bX/jCF6K0tDRGjx4dd955Z0ydOjV+8YtfHJpRAlBnqqur83vy7VqydQCgjk/VW79+fX4vp0y7du3yo06Zv/u7v8unKgegYauoqIgRI0bUrC9cuDD/+5ziUd28RWzpM7rWOgB1fMTpmGOOiXXr1uWPjz/++Hj00Ufzx08//XS0bNnyYF8OAKhvJSVRXVpWs2TrANRxOH30ox/Nb3ib+dd//df8KNMJJ5wQY8aMicsuu+xgXw4AAKDpnap3/fXX1zzOJojo3r17PPXUU3k8ZTfHBQAAaGre0w1wd/fXf/3X+QIAANBUuQEuAABAgnACAABIEE4AAAAJwgkAAKCuwym7X9Mvf/nLPbZn2371q1/V1bgAAAAabzh95jOfiTVr1uyxfe3atfnXAAAAotjD6YUXXojTTz99j+2nnXZa/jUAAIAo9nBq2bJlbNiwYY/t69ati9LS931bKAAAgAbnoEvnggsuiMmTJ8fChQujvLw83/bmm2/GNddcE+eff/6hGCNAg9Fv0r3R2JW8Uxl//tv7z86ZMj+qS8uisVt+05hCDwGAJuygw+nmm2+Os88+O7p3756fnpdZuXJldOrUKb7zne8cijECAAA0rnDq2rVrPPvss3HffffFr3/962jdunWMGzcuRo8eHS1atDg0owQAACig93RRUtu2bePTn/503Y8GAACgsYbTww8/HBdeeGF+RCl7vD8XX3xxXY0NAACg8YTTyJEjY/369dGxY8f88b6UlJREVVVVXY4PAACgcYTTzp079/oYAACgGBzUfZzefvvtOO+88+LVV189dCMCAABozOGUXeOUzagHAABQTA4qnDKf+MQn4q677jo0owEAAGgK05G/8847MW/evHj88cejX79++dTku5s1a1Zdjg8AAKDxhdPzzz8fp59+ev74lVdeORRjAgAAaNzh9LOf/ezQjAQAAKCpXON02WWXxbZt2/bYXlFRkX8NaNiqq6tj+/btNUu2DgBAHYfTPffcE3/605/22J5tu/feew/25YB6ln3IMWLEiJolW6e4VDdvEVv6jK5ZsnUAoI5O1du6dWv+yXS2ZEecWrVqVfO1qqqqeOSRR6Jjx44H+nIAFEpJSVSXlhV6FADQNMOpffv2UVJSki8nnnjiHl/Pts+YMaOuxwcAANB4wimbFCI72nTuuefGD3/4wzjiiCNqvlZWVhbdu3ePLl26HKpxAgAANPxwGjJkSP7ra6+9Fscee2x+hAkAAKAYHFA4Pfvss3HyySdHs2bNYsuWLfHcc8/tc98+ffrU5fgAAAAaRzj17ds31q9fn0/+kD3OjjbtbQrjbHs2UQQAAEDRhVN2et5RRx1V8xgAAKCYHFA4ZRM/7O0xAABAMTjoG+DOnDkz5s2bt8f2bNsNN9xQV+MCAABovOH0zW9+M3r16rXH9g996EMxZ86cuhoXAABAg3HQ4ZRNEnH00UfvsT27BmrdunV1NS4AAIDGG07dunWL//7v/95je7bNDXABAICivgHuLuPHj48rr7wy3n777Tj33HPzbYsXL45/+7d/iy984QuHYowAAACNK5wmTZoUv//97+OKK66IysrKfFurVq3i6quvjsmTJx+KMQIAADSucMpucpvNnjdlypR48cUXo3Xr1nHCCSdEy5YtD80IAQAAGls47dKuXbsYMGBA3Y4GAACgKUwOAQAAUGyEEwAAQIJwAgAASBBOAAAACcIJAACgMYTT7bffHj169MjvBzVo0KBYtmzZPvedO3dunHXWWfGBD3wgX4YOHbrf/QEAABp9OC1YsCAmTpwY06ZNixUrVsSpp54aw4YNi40bN+51/yVLlsTo0aPjZz/7WSxdujS6desWF1xwQaxdu7bexw4AABSHgofTrFmzYvz48TFu3Ljo3bt3zJkzJ9q0aRPz5s3b6/733XdfXHHFFdG3b9/o1atX3HnnnbFz585YvHhxvY8dAAAoDgUNp8rKyli+fHl+ul3NgJo1y9ezo0kH4q233oq33347jjjiiEM4UgAAoJiVFvKbb968OaqqqqJTp061tmfrL7300gG9xtVXXx1dunSpFV+727FjR77ssnXr1vc5agAAoNgU/FS99+P666+P+fPnx4MPPphPLLE3M2fOjPLy8poluyYKAACg0YRThw4donnz5rFhw4Za27P1zp077/e5N998cx5Ojz76aPTp02ef+02ePDm2bNlSs6xZs6bOxg8AABSHgoZTWVlZ9OvXr9bEDrsmehg8ePA+n3fjjTfGddddF4sWLYr+/fvv93u0bNkyDj/88FoLAABAo7nGKZNNRT527Ng8gAYOHBizZ8+OioqKfJa9zJgxY6Jr1675KXeZG264IaZOnRr3339/fu+n9evX59vbtWuXLwAAAE0unEaNGhWbNm3KYyiLoGya8exI0q4JI1avXp3PtLfLHXfckc/G9w//8A+1Xie7D9T06dPrffwAAEDTV/BwykyYMCFf9nXD2929/vrr9TQqAACAJjCrHgAAQH0QTgAAAAnCCQAAIEE4AQAAJAgnAACABOEEAACQIJwAAAAShBMAAECCcAIAAEgQTgAAAAnCCQAAIEE4AQAAJAgnAACABOEEAACQIJwAAAAShBMAAECCcAIAAEgQTgAAAAmlqR2AP+s36d5oCkreqYzy3dbPmTI/qkvLorFbftOYQg8BAGjCHHECAABIEE4AAAAJTtU7QE7TaticpgUAwKHkiBMAAECCcAIAAEgQTgAAAAnCCQAAIEE4AQAAJAgnAACABOEEAACQIJwAAAAShBMAAECCcAIAAEgQTgAAAAnCCQAAIEE4AQAAJAgnAACABOEEAACQIJwAAAAShBMAAECCcAIAAEgQTgAAAAnCCQAAIEE4AQAAJAgnAACABOEEAACQIJwAAAAShBMAAECCcAIAAEgQTgAAAAnCCQAAIEE4AQAAJAgnAACABOEEAACQIJwAAAAShBMAAECCcAIAAEgQTgAAAAnCCQAAIEE4AQAAJAgnAACABOEEAACQIJwAAAAShBMAAECCcAIAAEgQTgAAAAnCCQAAIEE4AQAAJJSmdgCalurmLWJLn9G11gEA2D/hBMWmpCSqS8sKPQoAgEbFqXoAAAAJwgkAACBBOAEAACQIJwAAgAThBAAAkCCcAAAAEoQTAABAgnACAABIEE4AAAAJwgkAACBBOAEAACQIJwAAgAThBAAA0NDD6fbbb48ePXpEq1atYtCgQbFs2bJ97vs///M/8bGPfSzfv6SkJGbPnl2vYwUAAIpTQcNpwYIFMXHixJg2bVqsWLEiTj311Bg2bFhs3Lhxr/u/9dZbcdxxx8X1118fnTt3rvfxAgAAxamg4TRr1qwYP358jBs3Lnr37h1z5syJNm3axLx58/a6/4ABA+Kmm26Kj3/849GyZct6Hy8AAFCcChZOlZWVsXz58hg6dOhfBtOsWb6+dOnSOvs+O3bsiK1bt9ZaAAAAGkU4bd68OaqqqqJTp061tmfr69evr7PvM3PmzCgvL69ZunXrVmevDQAAFIeCTw5xqE2ePDm2bNlSs6xZs6bQQwIAABqZ0kJ94w4dOkTz5s1jw4YNtbZn63U58UN2LZTroQAAgEZ5xKmsrCz69esXixcvrtm2c+fOfH3w4MGFGhYAAEDDOeKUyaYiHzt2bPTv3z8GDhyY35epoqIin2UvM2bMmOjatWt+ndKuCSVeeOGFmsdr166NlStXRrt27aJnz56F/K0AAABNWEHDadSoUbFp06aYOnVqPiFE3759Y9GiRTUTRqxevTqfaW+XN954I0477bSa9ZtvvjlfhgwZEkuWLCnI7wEAAGj6ChpOmQkTJuTL3rw7hnr06BHV1dX1NDIAAIAimVUPAADg/RJOAAAACcIJAAAgQTgBAAAkCCcAAIAE4QQAAJAgnAAAABKEEwAAQIJwAgAASBBOAAAACcIJAAAgQTgBAAAkCCcAAIAE4QQAAJAgnAAAABKEEwAAQIJwAgAASBBOAAAACcIJAAAgQTgBAAAkCCcAAIAE4QQAAJAgnAAAABKEEwAAQIJwAgAASBBOAAAACcIJAAAgQTgBAAAkCCcAAIAE4QQAAJAgnAAAABKEEwAAQIJwAgAASBBOAAAACcIJAAAgQTgBAAAkCCcAAIAE4QQAAJAgnAAAABKEEwAAQIJwAgAASBBOAAAACcIJAAAgQTgBAAAkCCcAAIAE4QQAAJAgnAAAABKEEwAAQIJwAgAASBBOAAAACcIJAAAgQTgBAAAkCCcAAIAE4QQAAJAgnAAAABKEEwAAQIJwAgAASBBOAAAACcIJAAAgQTgBAAAkCCcAAICE0tQONC3VzVvElj6ja60DAAD7J5yKTUlJVJeWFXoUAADQqDhVDwAAIEE4AQAAJAgnAACABOEEAACQIJwAAAAShBMAAECCcAIAAEgQTgAAAAnCCQAAIEE4AQAAJAgnAACABOEEAACQIJwAAAAShBMAAECCcAIAAEgQTgAAAAnCCQAAIEE4AQAAJAgnAACAxhBOt99+e/To0SNatWoVgwYNimXLlu13/+9///vRq1evfP9TTjklHnnkkXobKwAAUHwKHk4LFiyIiRMnxrRp02LFihVx6qmnxrBhw2Ljxo173f+pp56K0aNHx+WXXx7PPPNMjBw5Ml+ef/75eh87AABQHAoeTrNmzYrx48fHuHHjonfv3jFnzpxo06ZNzJs3b6/733rrrfG3f/u3MWnSpDjppJPiuuuui9NPPz1uu+22eh87AABQHEoL+c0rKytj+fLlMXny5JptzZo1i6FDh8bSpUv3+pxse3aEanfZEaqHHnpor/vv2LEjX3bZsmVL/uvWrVsPaqxVO/50UPtTvw72/+d74T3QsNXHeyDjfdBweQ/gPYD3AFsP8j2wa//q6uqGHU6bN2+Oqqqq6NSpU63t2fpLL7201+esX79+r/tn2/dm5syZMWPGjD22d+vW7X2NnYal/Bv/r9BDoMC8B/AewHsA7wHK3+N7YNu2bVFeXt5ww6k+ZEezdj9CtXPnzvjDH/4QRx55ZJSUlEQxyso6C8c1a9bE4YcfXujhUADeA3gP4D1AxvuAYn8PVFdX59HUpUuX5L4FDacOHTpE8+bNY8OGDbW2Z+udO3fe63Oy7Qezf8uWLfNld+3bt3/fY28Ksj8cxfgHhL/wHsB7AO8BMt4HFPN7oDxxpKlBTA5RVlYW/fr1i8WLF9c6IpStDx48eK/Pybbvvn/mscce2+f+AAAA71fBT9XLTqMbO3Zs9O/fPwYOHBizZ8+OioqKfJa9zJgxY6Jr1675tUqZz33uczFkyJD42te+FsOHD4/58+fHr371q/jWt75V4N8JAADQVBU8nEaNGhWbNm2KqVOn5hM89O3bNxYtWlQzAcTq1avzmfZ2OeOMM+L++++Pa6+9Nq655po44YQT8hn1Tj755AL+LhqX7NTF7L5Z7z6FkeLhPYD3AN4DZLwP8B44cCXVBzL3HgAAQBEr+A1wAQAAGjrhBAAAkCCcAAAAEoQTAABAgnAqInfccUf06dOn5gZn2b2vfvKTnxR6WBTI9ddfHyUlJXHllVcWeijUo+nTp+f/33dfevXqVehhUc/Wrl0bn/jEJ+LII4+M1q1bxymnnJLf2oPi0KNHjz3+HsiWz3zmM4UeGvWkqqoqpkyZEn/1V3+V/x1w/PHHx3XXXRfmjGvg05FTf4455pj8h+VsCvfsD8Y999wTI0aMiGeeeSY+9KEPFXp41KOnn346vvnNb+YhTfHJ/rw//vjjNeulpf4pKCZ//OMf42/+5m/iwx/+cP7h2VFHHRWvvvpqfOADHyj00KjHfwOyH5x3ef755+P888+PSy65pKDjov7ccMMN+Qfq2c+C2b8J2Qcn2T1Uy8vL47Of/Wyhh9dg+deyiFx00UW11r/yla/kf2h+8YtfCKcisn379rj00ktj7ty58eUvf7nQw6EAslDq3LlzoYdBAX9g6tatW3z729+u2ZZ96kzxyGJ5d9mHqtkRhyFDhhRsTNSvp556Kv/wfPjw4TVHIR944IFYtmxZoYfWoDlVr0hlnzTNnz8/Kioq8lP2KB7ZqRjZX5RDhw4t9FAokOzoQpcuXeK4447LIzq70TjF4+GHH47+/fvnRxc6duwYp512Wv5BCsWpsrIyvvvd78Zll12Wn65HcTjjjDNi8eLF8corr+Trv/71r+PJJ5+MCy+8sNBDa9AccSoyzz33XB5K//d//xft2rWLBx98MHr37l3oYVFPslhesWJFfpoGxWnQoEFx9913xwc/+MFYt25dzJgxI84666z8VJ3DDjus0MOjHvzv//5vfrbBxIkT45prrsn/PshOzSkrK4uxY8cWenjUs4ceeijefPPN+NSnPlXooVCP/v3f/z22bt2aX+PavHnz/AP17Eyk7MM09q2k2lVgRffJUvbp8pYtW+IHP/hB3HnnnfHzn/9cPBWBNWvW5J8yP/bYYzXXNp1zzjnRt2/fmD17dqGHR4FkPzB17949Zs2aFZdffnmhh0M9yAIp+7sgO1VnlyycsoBaunRpQcdG/Rs2bFj+nvjxj39c6KFQzx+kTpo0KW666ab8co2VK1fmk0Vl/xb4AGXfHHEqMtlfjj179swf9+vXL/+H8tZbb80nCqBpW758eWzcuDFOP/30mm3ZJ0xPPPFE3HbbbbFjx478UyeKS/v27ePEE0+M3/zmN4UeCvXk6KOP3uPDspNOOil++MMfFmxMFMZvf/vbfKKYH/3oR4UeCvUsi6bsqNPHP/7xfD2bWTN7P8ycOVM47YdwKnI7d+7Mf2Cm6TvvvPPyUzV3l82gkx2mv/rqq0VTEU8WsmrVqvjkJz9Z6KFQT7IZ9V5++eVa27LrHLIjjxSXbIKQ7Dq3XRMEUDzeeuutaNas9lQH2c8B2c+F7JtwKiKTJ0/OL/o79thjY9u2bXH//ffHkiVL4qc//Wmhh0Y9yK5fOfnkk2tta9u2bX4fl3dvp+m66qqr8hk2sx+S33jjjZg2bVr+j+Xo0aMLPTTqyec///n8wvCvfvWr8Y//+I/5LFrf+ta38oXikf2AnIVTdnTBLQmKT/bvQHZNU/YzYXaqXnZrmuw0vWySEPbNn5Qikp2mNWbMmPyC8Gye/uw6lyyasns3AMXhd7/7XR5Jv//97/Mpic8888z8lgTvnp6YpmvAgAH5xEDZh2lf+tKX8qnIs+scXRReXLJT9LJrnv2gXJy+8Y1v5DfAveKKK/KfD7OZVv/lX/4lpk6dWuihNWgmhwAAAEhwHycAAIAE4QQAAJAgnAAAABKEEwAAQIJwAgAASBBOAAAACcIJAAAgQTgBQERMnz49+vbtW7P+qU99KkaOHFnQMQHQcJQWegAA0BDdeuutsfs94s8555w8rGbPnl3QcQFQGMIJAPaivLy80EMAoAFxqh4ADV5FRUWMGTMm2rVrF0cffXR87Wtfy48AXXnllfnXS0pK4qGHHqr1nPbt28fdd99ds3711VfHiSeeGG3atInjjjsupkyZEm+//fY+v+fup+plj3/+85/nR6Gy75Utr732WvTs2TNuvvnmWs9buXJl/vXf/OY3dfxfAYBCEk4ANHiTJk3Kw2XhwoXx6KOPxpIlS2LFihUH9RqHHXZYHlIvvPBCHkBz586NW2655YCem+0/ePDgGD9+fKxbty5fjj322Ljsssvi29/+dq19s/Wzzz47jyoAmg7hBECDtn379rjrrrvyIzvnnXdenHLKKXHPPffEO++8c1Cvc+2118YZZ5wRPXr0iIsuuiiuuuqq+N73vnfAp+2VlZXlR6s6d+6cL82bN8+PRL388suxbNmyfL/sCNb999+fBxUATYtrnABo0FatWhWVlZUxaNCgmm1HHHFEfPCDHzyo11mwYEF8/etfz18vi7EsvA4//PD3NbYuXbrE8OHDY968eTFw4MD48Y9/HDt27IhLLrnkfb0uAA2PI04ANHrZNUW7z4CX2f36paVLl8all14aH/nIR+I//uM/4plnnokvfvGLeZC9X//8z/8c8+fPjz/96U/5aXqjRo3Kj0wB0LQ44gRAg3b88cdHixYt4pe//GV+XVHmj3/8Y7zyyisxZMiQfP2oo47Krzva5dVXX4233nqrZv2pp56K7t2757G0y29/+9uDGkd2ql5VVdUe27MYa9u2bdxxxx2xaNGieOKJJ97T7xOAhk04AdCgZTPpXX755fkEEUceeWR07NgxD6Bmzf5y0sS5554bt912Wz6BQxY32Qx6WWztcsIJJ8Tq1avzI0MDBgyI//zP/4wHH3zwoMaRXRuVxdvrr7+ejyk7XTAbw65rnSZPnpx/n2wMADQ9TtUDoMG76aab4qyzzsondRg6dGiceeaZ0a9fv5qvZ9OTd+vWLd/nn/7pn/KJH3Y/Xe7iiy+Oz3/+8zFhwoT8JrbZEahsOvKDkb1mFkm9e/fOj3BlIbZLFnbZaX/jxo2ro98xAA1NSfW7TwoHgEYgu49TFkGzZ88u9FDiv/7rv/IZ/9asWROdOnUq9HAAOAScqgcA71E2g96mTZti+vTp+Ux6ogmg6XKqHgC8Rw888EA+6cSbb74ZN954Y6GHA8Ah5FQ9AACABEecAAAAEoQTAABAgnACAABIEE4AAAAJwgkAACBBOAEAACQIJwAAgAThBAAAkCCcAAAAYv/+P0HaW8G0Wbd0AAAAAElFTkSuQmCC",
      "text/plain": [
       "<Figure size 1000x600 with 1 Axes>"
      ]
     },
     "metadata": {},
     "output_type": "display_data"
    }
   ],
   "source": [
    "#Composition of citric acid go higher as we go higher in the quality of the wine\n",
    "fig = plt.figure(figsize = (10,6))\n",
    "sns.barplot(x = 'quality', y = 'citric acid', data = wine)"
   ]
  },
  {
   "cell_type": "code",
   "execution_count": 26,
   "metadata": {
    "_cell_guid": "7dcb76bc-3436-46bd-9d7f-78ccd436517e",
    "_uuid": "6b017770cef61eefb34b4607218c77f933350389"
   },
   "outputs": [
    {
     "data": {
      "text/plain": [
       "<Axes: xlabel='quality', ylabel='residual sugar'>"
      ]
     },
     "execution_count": 26,
     "metadata": {},
     "output_type": "execute_result"
    },
    {
     "data": {
      "image/png": "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",
      "text/plain": [
       "<Figure size 1000x600 with 1 Axes>"
      ]
     },
     "metadata": {},
     "output_type": "display_data"
    }
   ],
   "source": [
    "fig = plt.figure(figsize = (10,6))\n",
    "sns.barplot(x = 'quality', y = 'residual sugar', data = wine)"
   ]
  },
  {
   "cell_type": "code",
   "execution_count": 27,
   "metadata": {
    "_cell_guid": "76463630-67d9-4b07-8076-fba8b49a9921",
    "_uuid": "31fe5d393946e406cbe62d3f4c7951e0b493c454"
   },
   "outputs": [
    {
     "data": {
      "text/plain": [
       "<Axes: xlabel='quality', ylabel='chlorides'>"
      ]
     },
     "execution_count": 27,
     "metadata": {},
     "output_type": "execute_result"
    },
    {
     "data": {
      "image/png": "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",
      "text/plain": [
       "<Figure size 1000x600 with 1 Axes>"
      ]
     },
     "metadata": {},
     "output_type": "display_data"
    }
   ],
   "source": [
    "#Composition of chloride also go down as we go higher in the quality of the wine\n",
    "fig = plt.figure(figsize = (10,6))\n",
    "sns.barplot(x = 'quality', y = 'chlorides', data = wine)"
   ]
  },
  {
   "cell_type": "code",
   "execution_count": 28,
   "metadata": {
    "_cell_guid": "6abcf7a2-cc7a-4673-a905-6ee0c2cc9e15",
    "_uuid": "6ba9a0dafe8e1042da4dbcaa93706dd46cf3a85c"
   },
   "outputs": [
    {
     "data": {
      "text/plain": [
       "<Axes: xlabel='quality', ylabel='free sulfur dioxide'>"
      ]
     },
     "execution_count": 28,
     "metadata": {},
     "output_type": "execute_result"
    },
    {
     "data": {
      "image/png": "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",
      "text/plain": [
       "<Figure size 1000x600 with 1 Axes>"
      ]
     },
     "metadata": {},
     "output_type": "display_data"
    }
   ],
   "source": [
    "fig = plt.figure(figsize = (10,6))\n",
    "sns.barplot(x = 'quality', y = 'free sulfur dioxide', data = wine)"
   ]
  },
  {
   "cell_type": "code",
   "execution_count": 29,
   "metadata": {
    "_cell_guid": "9acea621-2b7b-44b7-a0fa-b984dd8c0e93",
    "_uuid": "d99c6e4033da73cdc9d9977ac045372ff9af1c53"
   },
   "outputs": [
    {
     "data": {
      "text/plain": [
       "<Axes: xlabel='quality', ylabel='total sulfur dioxide'>"
      ]
     },
     "execution_count": 29,
     "metadata": {},
     "output_type": "execute_result"
    },
    {
     "data": {
      "image/png": "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",
      "text/plain": [
       "<Figure size 1000x600 with 1 Axes>"
      ]
     },
     "metadata": {},
     "output_type": "display_data"
    }
   ],
   "source": [
    "fig = plt.figure(figsize = (10,6))\n",
    "sns.barplot(x = 'quality', y = 'total sulfur dioxide', data = wine)"
   ]
  },
  {
   "cell_type": "code",
   "execution_count": 30,
   "metadata": {
    "_cell_guid": "bf0b1aa4-8a6c-4f95-80c3-7554b38a9c96",
    "_uuid": "ae9a7496f5c238ec9bb95729b17960c6e48efe35"
   },
   "outputs": [
    {
     "data": {
      "text/plain": [
       "<Axes: xlabel='quality', ylabel='sulphates'>"
      ]
     },
     "execution_count": 30,
     "metadata": {},
     "output_type": "execute_result"
    },
    {
     "data": {
      "image/png": "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",
      "text/plain": [
       "<Figure size 1000x600 with 1 Axes>"
      ]
     },
     "metadata": {},
     "output_type": "display_data"
    }
   ],
   "source": [
    "#Sulphates level goes higher with the quality of wine\n",
    "fig = plt.figure(figsize = (10,6))\n",
    "sns.barplot(x = 'quality', y = 'sulphates', data = wine)"
   ]
  },
  {
   "cell_type": "code",
   "execution_count": 31,
   "metadata": {
    "_cell_guid": "04f51b1d-6315-44d3-986c-ed82fc996ad3",
    "_uuid": "81efa0b7799cd731aff98cffeaa28c361a7375a5"
   },
   "outputs": [
    {
     "data": {
      "text/plain": [
       "<Axes: xlabel='quality', ylabel='alcohol'>"
      ]
     },
     "execution_count": 31,
     "metadata": {},
     "output_type": "execute_result"
    },
    {
     "data": {
      "image/png": "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",
      "text/plain": [
       "<Figure size 1000x600 with 1 Axes>"
      ]
     },
     "metadata": {},
     "output_type": "display_data"
    }
   ],
   "source": [
    "#Alcohol level also goes higher as te quality of wine increases\n",
    "fig = plt.figure(figsize = (10,6))\n",
    "sns.barplot(x = 'quality', y = 'alcohol', data = wine)"
   ]
  },
  {
   "cell_type": "markdown",
   "metadata": {
    "_cell_guid": "9838ca3d-4b89-4503-9d7e-247cc3a9730b",
    "_uuid": "974be3136a2f13bf26a88b26cbddbf73f5cafda9"
   },
   "source": [
    "## Preprocessing Data for performing Machine learning algorithms"
   ]
  },
  {
   "cell_type": "code",
   "execution_count": 32,
   "metadata": {
    "_cell_guid": "33e1c5c0-a65a-4918-8d94-db8e4c521d50",
    "_uuid": "3f082340d1b157391052f0fa20a44aa0105ce987",
    "collapsed": true
   },
   "outputs": [],
   "source": [
    "#Making binary classificaion for the response variable.\n",
    "#Dividing wine as good and bad by giving the limit for the quality\n",
    "bins = (2, 6.5, 8)\n",
    "group_names = ['bad', 'good']\n",
    "wine['quality'] = pd.cut(wine['quality'], bins = bins, labels = group_names)"
   ]
  },
  {
   "cell_type": "code",
   "execution_count": 33,
   "metadata": {
    "_cell_guid": "21a15507-cc97-4c40-835b-51fd79f7cdd9",
    "_uuid": "87127b3c5e9493a9364b3c63401ddb11a51373a1",
    "collapsed": true
   },
   "outputs": [],
   "source": [
    "#Now lets assign a labels to our quality variable\n",
    "label_quality = LabelEncoder()"
   ]
  },
  {
   "cell_type": "code",
   "execution_count": 34,
   "metadata": {
    "_cell_guid": "f4c3a886-4b1f-4533-a660-b7ffb66376c2",
    "_uuid": "a592e2b8ece55e8d5928241eb5b9188226a725bf",
    "collapsed": true
   },
   "outputs": [],
   "source": [
    "#Bad becomes 0 and good becomes 1 \n",
    "wine['quality'] = label_quality.fit_transform(wine['quality'])"
   ]
  },
  {
   "cell_type": "code",
   "execution_count": 35,
   "metadata": {
    "_cell_guid": "faa36f65-7e80-44d7-a4f8-10e482cec684",
    "_uuid": "65a97517331f835cade698b594a7376ea7778eeb"
   },
   "outputs": [
    {
     "data": {
      "text/plain": [
       "quality\n",
       "0    1382\n",
       "1     217\n",
       "Name: count, dtype: int64"
      ]
     },
     "execution_count": 35,
     "metadata": {},
     "output_type": "execute_result"
    }
   ],
   "source": [
    "wine['quality'].value_counts()"
   ]
  },
  {
   "cell_type": "code",
   "execution_count": 36,
   "metadata": {
    "_cell_guid": "2fe7339e-837e-48c0-b988-a36c89632844",
    "_uuid": "d2a4c7e14dc6b8faa31efd1fcbe4f61b80a7d3e1"
   },
   "outputs": [
    {
     "data": {
      "text/plain": [
       "<Axes: ylabel='count'>"
      ]
     },
     "execution_count": 36,
     "metadata": {},
     "output_type": "execute_result"
    },
    {
     "data": {
      "image/png": "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",
      "text/plain": [
       "<Figure size 640x480 with 1 Axes>"
      ]
     },
     "metadata": {},
     "output_type": "display_data"
    }
   ],
   "source": [
    "sns.countplot(wine['quality'])"
   ]
  },
  {
   "cell_type": "code",
   "execution_count": 37,
   "metadata": {
    "_cell_guid": "ba89712a-ad66-4a92-9214-4e35c3802d59",
    "_uuid": "b893deb26bb309c914de12aadf9ad8437deb8358",
    "collapsed": true
   },
   "outputs": [],
   "source": [
    "#Now seperate the dataset as response variable and feature variabes\n",
    "X = wine.drop('quality', axis = 1)\n",
    "y = wine['quality']"
   ]
  },
  {
   "cell_type": "code",
   "execution_count": 38,
   "metadata": {
    "_cell_guid": "d7703d9a-3397-4c42-9b38-6f341cac1cde",
    "_uuid": "bdfc0f6ba146f947f265fd493e8327366fdb5c9a",
    "collapsed": true
   },
   "outputs": [],
   "source": [
    "#Train and Test splitting of data \n",
    "X_train, X_test, y_train, y_test = train_test_split(X, y, test_size = 0.2, random_state = 42)"
   ]
  },
  {
   "cell_type": "code",
   "execution_count": 39,
   "metadata": {
    "_cell_guid": "cef31289-9cec-4ab1-afea-2ff34c36fec1",
    "_uuid": "ca68209bcd596b3cfcaf42837e4a6e49b6c12974",
    "collapsed": true
   },
   "outputs": [],
   "source": [
    "#Applying Standard scaling to get optimized result\n",
    "sc = StandardScaler()"
   ]
  },
  {
   "cell_type": "code",
   "execution_count": 40,
   "metadata": {
    "_cell_guid": "705b8e8a-a6d3-4e93-8b53-7c677b5b88c4",
    "_uuid": "7878194b0c4935904c68a88a91e18f9bbbabbda7",
    "collapsed": true
   },
   "outputs": [],
   "source": [
    "X_train = sc.fit_transform(X_train)\n",
    "X_test = sc.fit_transform(X_test)"
   ]
  },
  {
   "cell_type": "markdown",
   "metadata": {
    "_cell_guid": "645e952e-09b5-48df-9d08-aa6454ef333a",
    "_uuid": "3fd28a9b12fd0f5a00bc0add378ca1f9632bc319"
   },
   "source": [
    "## Our training and testing data is ready now to perform machine learning algorithm"
   ]
  },
  {
   "cell_type": "markdown",
   "metadata": {
    "_cell_guid": "0a12868b-8780-43b9-ae70-4c849407aac6",
    "_uuid": "093572f70cda59063611c1c888974e6a863ec7ef"
   },
   "source": [
    "### Random Forest Classifier"
   ]
  },
  {
   "cell_type": "code",
   "execution_count": 41,
   "metadata": {
    "_cell_guid": "f7d2ca14-40fa-4b7c-b902-d47f09214c75",
    "_uuid": "4c2c2a071bde3b44adf031a6807f51b47f8b5eaa",
    "collapsed": true
   },
   "outputs": [],
   "source": [
    "rfc = RandomForestClassifier(n_estimators=200)\n",
    "rfc.fit(X_train, y_train)\n",
    "pred_rfc = rfc.predict(X_test)"
   ]
  },
  {
   "cell_type": "code",
   "execution_count": 42,
   "metadata": {
    "_cell_guid": "1cc15e56-0589-4fa3-a4f1-6f5e7b5547b2",
    "_uuid": "61e8a79a7db4fef289b8d4e3b3dd8e1c01756697"
   },
   "outputs": [
    {
     "name": "stdout",
     "output_type": "stream",
     "text": [
      "              precision    recall  f1-score   support\n",
      "\n",
      "           0       0.90      0.98      0.94       273\n",
      "           1       0.75      0.38      0.51        47\n",
      "\n",
      "    accuracy                           0.89       320\n",
      "   macro avg       0.83      0.68      0.72       320\n",
      "weighted avg       0.88      0.89      0.88       320\n",
      "\n"
     ]
    }
   ],
   "source": [
    "#Let's see how our model performed\n",
    "print(classification_report(y_test, pred_rfc))"
   ]
  },
  {
   "cell_type": "markdown",
   "metadata": {
    "_cell_guid": "6fc282fd-9db3-4c69-bf91-f9daaaec615b",
    "_uuid": "eaa7b2cbb80adbb06133b9cd89a8ebae014dc3e8"
   },
   "source": [
    "#### Random forest gives the accuracy of 87%"
   ]
  },
  {
   "cell_type": "code",
   "execution_count": 43,
   "metadata": {
    "_cell_guid": "84334dbd-d36c-4650-87ab-d3e8f73be63c",
    "_uuid": "0fd8c7cd7741be25fd0d5f56d5711e8aaf44ac0f"
   },
   "outputs": [
    {
     "name": "stdout",
     "output_type": "stream",
     "text": [
      "[[267   6]\n",
      " [ 29  18]]\n"
     ]
    }
   ],
   "source": [
    "#Confusion matrix for the random forest classification\n",
    "print(confusion_matrix(y_test, pred_rfc))"
   ]
  },
  {
   "cell_type": "markdown",
   "metadata": {
    "_cell_guid": "cb7432d3-16a5-4764-b792-def2666dffbe",
    "_uuid": "6bb4d5afc35743acfd4630d12038c29f2459ce39"
   },
   "source": [
    "\n",
    "\n",
    "## Stochastic Gradient Decent Classifier"
   ]
  },
  {
   "cell_type": "code",
   "execution_count": 44,
   "metadata": {
    "_cell_guid": "d6835aea-7d7c-4602-b3f3-11e26a37f816",
    "_uuid": "2e1bc3b870d29573b09f1c590ee18011e29af7c3"
   },
   "outputs": [],
   "source": [
    "sgd = SGDClassifier(penalty=None)\n",
    "sgd.fit(X_train, y_train)\n",
    "pred_sgd = sgd.predict(X_test)"
   ]
  },
  {
   "cell_type": "code",
   "execution_count": 45,
   "metadata": {
    "_cell_guid": "ff591dec-adf0-422a-85f6-97c1a27b62f6",
    "_uuid": "c5bdce42ff74ac8c4b6d3eb5b40107b301eec037"
   },
   "outputs": [
    {
     "name": "stdout",
     "output_type": "stream",
     "text": [
      "              precision    recall  f1-score   support\n",
      "\n",
      "           0       0.87      0.96      0.91       273\n",
      "           1       0.39      0.15      0.22        47\n",
      "\n",
      "    accuracy                           0.84       320\n",
      "   macro avg       0.63      0.55      0.56       320\n",
      "weighted avg       0.80      0.84      0.81       320\n",
      "\n"
     ]
    }
   ],
   "source": [
    "print(classification_report(y_test, pred_sgd))"
   ]
  },
  {
   "cell_type": "markdown",
   "metadata": {
    "_cell_guid": "674724bc-e600-4f3e-999a-9b99c4d564be",
    "_uuid": "26ef4101c3c8d17b7524378bb7b59ea2d2a4e762"
   },
   "source": [
    "#### 84% accuracy using stochastic gradient descent classifier"
   ]
  },
  {
   "cell_type": "code",
   "execution_count": 46,
   "metadata": {
    "_cell_guid": "2f2ff080-986a-4a64-8f74-8a3afd4e494f",
    "_uuid": "593afdb03d06d44529cba0d8348aced10f1cd276"
   },
   "outputs": [
    {
     "name": "stdout",
     "output_type": "stream",
     "text": [
      "[[262  11]\n",
      " [ 40   7]]\n"
     ]
    }
   ],
   "source": [
    "print(confusion_matrix(y_test, pred_sgd))"
   ]
  },
  {
   "cell_type": "markdown",
   "metadata": {
    "_cell_guid": "eda98e5a-552d-4318-8ae7-1fc45c360be4",
    "_uuid": "9ec5e14c6c24713d6b6e0aaa76ddc5d45886c626"
   },
   "source": [
    "## Support Vector Classifier"
   ]
  },
  {
   "cell_type": "code",
   "execution_count": 47,
   "metadata": {
    "_cell_guid": "c09c2885-0ae7-424b-8bfb-8d60eeab8910",
    "_uuid": "432c960068fac4d27d9be14a39ac0fe92933f532",
    "collapsed": true
   },
   "outputs": [],
   "source": [
    "svc = SVC()\n",
    "svc.fit(X_train, y_train)\n",
    "pred_svc = svc.predict(X_test)"
   ]
  },
  {
   "cell_type": "code",
   "execution_count": 48,
   "metadata": {
    "_cell_guid": "a9bd5ed8-fed7-4d12-8f84-ee02b345f7f3",
    "_uuid": "bc3c13a5596baf43c4c40dbddea247e3ee470d31"
   },
   "outputs": [
    {
     "name": "stdout",
     "output_type": "stream",
     "text": [
      "              precision    recall  f1-score   support\n",
      "\n",
      "           0       0.88      0.98      0.93       273\n",
      "           1       0.71      0.26      0.38        47\n",
      "\n",
      "    accuracy                           0.88       320\n",
      "   macro avg       0.80      0.62      0.65       320\n",
      "weighted avg       0.86      0.88      0.85       320\n",
      "\n"
     ]
    }
   ],
   "source": [
    "print(classification_report(y_test, pred_svc))"
   ]
  },
  {
   "cell_type": "markdown",
   "metadata": {
    "_cell_guid": "253d6200-8035-400c-a022-00d2bbd7f045",
    "_uuid": "3d4ac7ee94b2a081d5cb8caa1cfd99e41b8940fb"
   },
   "source": [
    "#### Support vector classifier gets 86%"
   ]
  },
  {
   "cell_type": "markdown",
   "metadata": {
    "_cell_guid": "ea15f1a9-eec6-4d08-a68d-8e3fce6f6b8a",
    "_uuid": "b11f94fdee6a4bfed980793d94ad5c17e33b7d39"
   },
   "source": [
    "## Let's try to increase our accuracy of models\n",
    "## Grid Search CV"
   ]
  },
  {
   "cell_type": "code",
   "execution_count": 49,
   "metadata": {
    "_cell_guid": "31bbdf11-00b0-4120-81f6-b7b5ac537554",
    "_uuid": "0d8fb2a1ae6909c8e44d4b51af8492c194016e4c",
    "collapsed": true
   },
   "outputs": [],
   "source": [
    "#Finding best parameters for our SVC model\n",
    "param = {\n",
    "    'C': [0.1,0.8,0.9,1,1.1,1.2,1.3,1.4],\n",
    "    'kernel':['linear', 'rbf'],\n",
    "    'gamma' :[0.1,0.8,0.9,1,1.1,1.2,1.3,1.4]\n",
    "}\n",
    "grid_svc = GridSearchCV(svc, param_grid=param, scoring='accuracy', cv=10)"
   ]
  },
  {
   "cell_type": "code",
   "execution_count": 50,
   "metadata": {
    "_cell_guid": "32cbf4d6-254c-4c55-93e2-448244d89ad9",
    "_uuid": "a581f788a26862911480af8e9c2acb4385d6d79d"
   },
   "outputs": [
    {
     "data": {
      "text/html": [
       "<style>#sk-container-id-1 {\n",
       "  /* Definition of color scheme common for light and dark mode */\n",
       "  --sklearn-color-text: #000;\n",
       "  --sklearn-color-text-muted: #666;\n",
       "  --sklearn-color-line: gray;\n",
       "  /* Definition of color scheme for unfitted estimators */\n",
       "  --sklearn-color-unfitted-level-0: #fff5e6;\n",
       "  --sklearn-color-unfitted-level-1: #f6e4d2;\n",
       "  --sklearn-color-unfitted-level-2: #ffe0b3;\n",
       "  --sklearn-color-unfitted-level-3: chocolate;\n",
       "  /* Definition of color scheme for fitted estimators */\n",
       "  --sklearn-color-fitted-level-0: #f0f8ff;\n",
       "  --sklearn-color-fitted-level-1: #d4ebff;\n",
       "  --sklearn-color-fitted-level-2: #b3dbfd;\n",
       "  --sklearn-color-fitted-level-3: cornflowerblue;\n",
       "\n",
       "  /* Specific color for light theme */\n",
       "  --sklearn-color-text-on-default-background: var(--sg-text-color, var(--theme-code-foreground, var(--jp-content-font-color1, black)));\n",
       "  --sklearn-color-background: var(--sg-background-color, var(--theme-background, var(--jp-layout-color0, white)));\n",
       "  --sklearn-color-border-box: var(--sg-text-color, var(--theme-code-foreground, var(--jp-content-font-color1, black)));\n",
       "  --sklearn-color-icon: #696969;\n",
       "\n",
       "  @media (prefers-color-scheme: dark) {\n",
       "    /* Redefinition of color scheme for dark theme */\n",
       "    --sklearn-color-text-on-default-background: var(--sg-text-color, var(--theme-code-foreground, var(--jp-content-font-color1, white)));\n",
       "    --sklearn-color-background: var(--sg-background-color, var(--theme-background, var(--jp-layout-color0, #111)));\n",
       "    --sklearn-color-border-box: var(--sg-text-color, var(--theme-code-foreground, var(--jp-content-font-color1, white)));\n",
       "    --sklearn-color-icon: #878787;\n",
       "  }\n",
       "}\n",
       "\n",
       "#sk-container-id-1 {\n",
       "  color: var(--sklearn-color-text);\n",
       "}\n",
       "\n",
       "#sk-container-id-1 pre {\n",
       "  padding: 0;\n",
       "}\n",
       "\n",
       "#sk-container-id-1 input.sk-hidden--visually {\n",
       "  border: 0;\n",
       "  clip: rect(1px 1px 1px 1px);\n",
       "  clip: rect(1px, 1px, 1px, 1px);\n",
       "  height: 1px;\n",
       "  margin: -1px;\n",
       "  overflow: hidden;\n",
       "  padding: 0;\n",
       "  position: absolute;\n",
       "  width: 1px;\n",
       "}\n",
       "\n",
       "#sk-container-id-1 div.sk-dashed-wrapped {\n",
       "  border: 1px dashed var(--sklearn-color-line);\n",
       "  margin: 0 0.4em 0.5em 0.4em;\n",
       "  box-sizing: border-box;\n",
       "  padding-bottom: 0.4em;\n",
       "  background-color: var(--sklearn-color-background);\n",
       "}\n",
       "\n",
       "#sk-container-id-1 div.sk-container {\n",
       "  /* jupyter's `normalize.less` sets `[hidden] { display: none; }`\n",
       "     but bootstrap.min.css set `[hidden] { display: none !important; }`\n",
       "     so we also need the `!important` here to be able to override the\n",
       "     default hidden behavior on the sphinx rendered scikit-learn.org.\n",
       "     See: https://github.com/scikit-learn/scikit-learn/issues/21755 */\n",
       "  display: inline-block !important;\n",
       "  position: relative;\n",
       "}\n",
       "\n",
       "#sk-container-id-1 div.sk-text-repr-fallback {\n",
       "  display: none;\n",
       "}\n",
       "\n",
       "div.sk-parallel-item,\n",
       "div.sk-serial,\n",
       "div.sk-item {\n",
       "  /* draw centered vertical line to link estimators */\n",
       "  background-image: linear-gradient(var(--sklearn-color-text-on-default-background), var(--sklearn-color-text-on-default-background));\n",
       "  background-size: 2px 100%;\n",
       "  background-repeat: no-repeat;\n",
       "  background-position: center center;\n",
       "}\n",
       "\n",
       "/* Parallel-specific style estimator block */\n",
       "\n",
       "#sk-container-id-1 div.sk-parallel-item::after {\n",
       "  content: \"\";\n",
       "  width: 100%;\n",
       "  border-bottom: 2px solid var(--sklearn-color-text-on-default-background);\n",
       "  flex-grow: 1;\n",
       "}\n",
       "\n",
       "#sk-container-id-1 div.sk-parallel {\n",
       "  display: flex;\n",
       "  align-items: stretch;\n",
       "  justify-content: center;\n",
       "  background-color: var(--sklearn-color-background);\n",
       "  position: relative;\n",
       "}\n",
       "\n",
       "#sk-container-id-1 div.sk-parallel-item {\n",
       "  display: flex;\n",
       "  flex-direction: column;\n",
       "}\n",
       "\n",
       "#sk-container-id-1 div.sk-parallel-item:first-child::after {\n",
       "  align-self: flex-end;\n",
       "  width: 50%;\n",
       "}\n",
       "\n",
       "#sk-container-id-1 div.sk-parallel-item:last-child::after {\n",
       "  align-self: flex-start;\n",
       "  width: 50%;\n",
       "}\n",
       "\n",
       "#sk-container-id-1 div.sk-parallel-item:only-child::after {\n",
       "  width: 0;\n",
       "}\n",
       "\n",
       "/* Serial-specific style estimator block */\n",
       "\n",
       "#sk-container-id-1 div.sk-serial {\n",
       "  display: flex;\n",
       "  flex-direction: column;\n",
       "  align-items: center;\n",
       "  background-color: var(--sklearn-color-background);\n",
       "  padding-right: 1em;\n",
       "  padding-left: 1em;\n",
       "}\n",
       "\n",
       "\n",
       "/* Toggleable style: style used for estimator/Pipeline/ColumnTransformer box that is\n",
       "clickable and can be expanded/collapsed.\n",
       "- Pipeline and ColumnTransformer use this feature and define the default style\n",
       "- Estimators will overwrite some part of the style using the `sk-estimator` class\n",
       "*/\n",
       "\n",
       "/* Pipeline and ColumnTransformer style (default) */\n",
       "\n",
       "#sk-container-id-1 div.sk-toggleable {\n",
       "  /* Default theme specific background. It is overwritten whether we have a\n",
       "  specific estimator or a Pipeline/ColumnTransformer */\n",
       "  background-color: var(--sklearn-color-background);\n",
       "}\n",
       "\n",
       "/* Toggleable label */\n",
       "#sk-container-id-1 label.sk-toggleable__label {\n",
       "  cursor: pointer;\n",
       "  display: flex;\n",
       "  width: 100%;\n",
       "  margin-bottom: 0;\n",
       "  padding: 0.5em;\n",
       "  box-sizing: border-box;\n",
       "  text-align: center;\n",
       "  align-items: start;\n",
       "  justify-content: space-between;\n",
       "  gap: 0.5em;\n",
       "}\n",
       "\n",
       "#sk-container-id-1 label.sk-toggleable__label .caption {\n",
       "  font-size: 0.6rem;\n",
       "  font-weight: lighter;\n",
       "  color: var(--sklearn-color-text-muted);\n",
       "}\n",
       "\n",
       "#sk-container-id-1 label.sk-toggleable__label-arrow:before {\n",
       "  /* Arrow on the left of the label */\n",
       "  content: \"▸\";\n",
       "  float: left;\n",
       "  margin-right: 0.25em;\n",
       "  color: var(--sklearn-color-icon);\n",
       "}\n",
       "\n",
       "#sk-container-id-1 label.sk-toggleable__label-arrow:hover:before {\n",
       "  color: var(--sklearn-color-text);\n",
       "}\n",
       "\n",
       "/* Toggleable content - dropdown */\n",
       "\n",
       "#sk-container-id-1 div.sk-toggleable__content {\n",
       "  max-height: 0;\n",
       "  max-width: 0;\n",
       "  overflow: hidden;\n",
       "  text-align: left;\n",
       "  /* unfitted */\n",
       "  background-color: var(--sklearn-color-unfitted-level-0);\n",
       "}\n",
       "\n",
       "#sk-container-id-1 div.sk-toggleable__content.fitted {\n",
       "  /* fitted */\n",
       "  background-color: var(--sklearn-color-fitted-level-0);\n",
       "}\n",
       "\n",
       "#sk-container-id-1 div.sk-toggleable__content pre {\n",
       "  margin: 0.2em;\n",
       "  border-radius: 0.25em;\n",
       "  color: var(--sklearn-color-text);\n",
       "  /* unfitted */\n",
       "  background-color: var(--sklearn-color-unfitted-level-0);\n",
       "}\n",
       "\n",
       "#sk-container-id-1 div.sk-toggleable__content.fitted pre {\n",
       "  /* unfitted */\n",
       "  background-color: var(--sklearn-color-fitted-level-0);\n",
       "}\n",
       "\n",
       "#sk-container-id-1 input.sk-toggleable__control:checked~div.sk-toggleable__content {\n",
       "  /* Expand drop-down */\n",
       "  max-height: 200px;\n",
       "  max-width: 100%;\n",
       "  overflow: auto;\n",
       "}\n",
       "\n",
       "#sk-container-id-1 input.sk-toggleable__control:checked~label.sk-toggleable__label-arrow:before {\n",
       "  content: \"▾\";\n",
       "}\n",
       "\n",
       "/* Pipeline/ColumnTransformer-specific style */\n",
       "\n",
       "#sk-container-id-1 div.sk-label input.sk-toggleable__control:checked~label.sk-toggleable__label {\n",
       "  color: var(--sklearn-color-text);\n",
       "  background-color: var(--sklearn-color-unfitted-level-2);\n",
       "}\n",
       "\n",
       "#sk-container-id-1 div.sk-label.fitted input.sk-toggleable__control:checked~label.sk-toggleable__label {\n",
       "  background-color: var(--sklearn-color-fitted-level-2);\n",
       "}\n",
       "\n",
       "/* Estimator-specific style */\n",
       "\n",
       "/* Colorize estimator box */\n",
       "#sk-container-id-1 div.sk-estimator input.sk-toggleable__control:checked~label.sk-toggleable__label {\n",
       "  /* unfitted */\n",
       "  background-color: var(--sklearn-color-unfitted-level-2);\n",
       "}\n",
       "\n",
       "#sk-container-id-1 div.sk-estimator.fitted input.sk-toggleable__control:checked~label.sk-toggleable__label {\n",
       "  /* fitted */\n",
       "  background-color: var(--sklearn-color-fitted-level-2);\n",
       "}\n",
       "\n",
       "#sk-container-id-1 div.sk-label label.sk-toggleable__label,\n",
       "#sk-container-id-1 div.sk-label label {\n",
       "  /* The background is the default theme color */\n",
       "  color: var(--sklearn-color-text-on-default-background);\n",
       "}\n",
       "\n",
       "/* On hover, darken the color of the background */\n",
       "#sk-container-id-1 div.sk-label:hover label.sk-toggleable__label {\n",
       "  color: var(--sklearn-color-text);\n",
       "  background-color: var(--sklearn-color-unfitted-level-2);\n",
       "}\n",
       "\n",
       "/* Label box, darken color on hover, fitted */\n",
       "#sk-container-id-1 div.sk-label.fitted:hover label.sk-toggleable__label.fitted {\n",
       "  color: var(--sklearn-color-text);\n",
       "  background-color: var(--sklearn-color-fitted-level-2);\n",
       "}\n",
       "\n",
       "/* Estimator label */\n",
       "\n",
       "#sk-container-id-1 div.sk-label label {\n",
       "  font-family: monospace;\n",
       "  font-weight: bold;\n",
       "  display: inline-block;\n",
       "  line-height: 1.2em;\n",
       "}\n",
       "\n",
       "#sk-container-id-1 div.sk-label-container {\n",
       "  text-align: center;\n",
       "}\n",
       "\n",
       "/* Estimator-specific */\n",
       "#sk-container-id-1 div.sk-estimator {\n",
       "  font-family: monospace;\n",
       "  border: 1px dotted var(--sklearn-color-border-box);\n",
       "  border-radius: 0.25em;\n",
       "  box-sizing: border-box;\n",
       "  margin-bottom: 0.5em;\n",
       "  /* unfitted */\n",
       "  background-color: var(--sklearn-color-unfitted-level-0);\n",
       "}\n",
       "\n",
       "#sk-container-id-1 div.sk-estimator.fitted {\n",
       "  /* fitted */\n",
       "  background-color: var(--sklearn-color-fitted-level-0);\n",
       "}\n",
       "\n",
       "/* on hover */\n",
       "#sk-container-id-1 div.sk-estimator:hover {\n",
       "  /* unfitted */\n",
       "  background-color: var(--sklearn-color-unfitted-level-2);\n",
       "}\n",
       "\n",
       "#sk-container-id-1 div.sk-estimator.fitted:hover {\n",
       "  /* fitted */\n",
       "  background-color: var(--sklearn-color-fitted-level-2);\n",
       "}\n",
       "\n",
       "/* Specification for estimator info (e.g. \"i\" and \"?\") */\n",
       "\n",
       "/* Common style for \"i\" and \"?\" */\n",
       "\n",
       ".sk-estimator-doc-link,\n",
       "a:link.sk-estimator-doc-link,\n",
       "a:visited.sk-estimator-doc-link {\n",
       "  float: right;\n",
       "  font-size: smaller;\n",
       "  line-height: 1em;\n",
       "  font-family: monospace;\n",
       "  background-color: var(--sklearn-color-background);\n",
       "  border-radius: 1em;\n",
       "  height: 1em;\n",
       "  width: 1em;\n",
       "  text-decoration: none !important;\n",
       "  margin-left: 0.5em;\n",
       "  text-align: center;\n",
       "  /* unfitted */\n",
       "  border: var(--sklearn-color-unfitted-level-1) 1pt solid;\n",
       "  color: var(--sklearn-color-unfitted-level-1);\n",
       "}\n",
       "\n",
       ".sk-estimator-doc-link.fitted,\n",
       "a:link.sk-estimator-doc-link.fitted,\n",
       "a:visited.sk-estimator-doc-link.fitted {\n",
       "  /* fitted */\n",
       "  border: var(--sklearn-color-fitted-level-1) 1pt solid;\n",
       "  color: var(--sklearn-color-fitted-level-1);\n",
       "}\n",
       "\n",
       "/* On hover */\n",
       "div.sk-estimator:hover .sk-estimator-doc-link:hover,\n",
       ".sk-estimator-doc-link:hover,\n",
       "div.sk-label-container:hover .sk-estimator-doc-link:hover,\n",
       ".sk-estimator-doc-link:hover {\n",
       "  /* unfitted */\n",
       "  background-color: var(--sklearn-color-unfitted-level-3);\n",
       "  color: var(--sklearn-color-background);\n",
       "  text-decoration: none;\n",
       "}\n",
       "\n",
       "div.sk-estimator.fitted:hover .sk-estimator-doc-link.fitted:hover,\n",
       ".sk-estimator-doc-link.fitted:hover,\n",
       "div.sk-label-container:hover .sk-estimator-doc-link.fitted:hover,\n",
       ".sk-estimator-doc-link.fitted:hover {\n",
       "  /* fitted */\n",
       "  background-color: var(--sklearn-color-fitted-level-3);\n",
       "  color: var(--sklearn-color-background);\n",
       "  text-decoration: none;\n",
       "}\n",
       "\n",
       "/* Span, style for the box shown on hovering the info icon */\n",
       ".sk-estimator-doc-link span {\n",
       "  display: none;\n",
       "  z-index: 9999;\n",
       "  position: relative;\n",
       "  font-weight: normal;\n",
       "  right: .2ex;\n",
       "  padding: .5ex;\n",
       "  margin: .5ex;\n",
       "  width: min-content;\n",
       "  min-width: 20ex;\n",
       "  max-width: 50ex;\n",
       "  color: var(--sklearn-color-text);\n",
       "  box-shadow: 2pt 2pt 4pt #999;\n",
       "  /* unfitted */\n",
       "  background: var(--sklearn-color-unfitted-level-0);\n",
       "  border: .5pt solid var(--sklearn-color-unfitted-level-3);\n",
       "}\n",
       "\n",
       ".sk-estimator-doc-link.fitted span {\n",
       "  /* fitted */\n",
       "  background: var(--sklearn-color-fitted-level-0);\n",
       "  border: var(--sklearn-color-fitted-level-3);\n",
       "}\n",
       "\n",
       ".sk-estimator-doc-link:hover span {\n",
       "  display: block;\n",
       "}\n",
       "\n",
       "/* \"?\"-specific style due to the `<a>` HTML tag */\n",
       "\n",
       "#sk-container-id-1 a.estimator_doc_link {\n",
       "  float: right;\n",
       "  font-size: 1rem;\n",
       "  line-height: 1em;\n",
       "  font-family: monospace;\n",
       "  background-color: var(--sklearn-color-background);\n",
       "  border-radius: 1rem;\n",
       "  height: 1rem;\n",
       "  width: 1rem;\n",
       "  text-decoration: none;\n",
       "  /* unfitted */\n",
       "  color: var(--sklearn-color-unfitted-level-1);\n",
       "  border: var(--sklearn-color-unfitted-level-1) 1pt solid;\n",
       "}\n",
       "\n",
       "#sk-container-id-1 a.estimator_doc_link.fitted {\n",
       "  /* fitted */\n",
       "  border: var(--sklearn-color-fitted-level-1) 1pt solid;\n",
       "  color: var(--sklearn-color-fitted-level-1);\n",
       "}\n",
       "\n",
       "/* On hover */\n",
       "#sk-container-id-1 a.estimator_doc_link:hover {\n",
       "  /* unfitted */\n",
       "  background-color: var(--sklearn-color-unfitted-level-3);\n",
       "  color: var(--sklearn-color-background);\n",
       "  text-decoration: none;\n",
       "}\n",
       "\n",
       "#sk-container-id-1 a.estimator_doc_link.fitted:hover {\n",
       "  /* fitted */\n",
       "  background-color: var(--sklearn-color-fitted-level-3);\n",
       "}\n",
       "</style><div id=\"sk-container-id-1\" class=\"sk-top-container\"><div class=\"sk-text-repr-fallback\"><pre>GridSearchCV(cv=10, estimator=SVC(),\n",
       "             param_grid={&#x27;C&#x27;: [0.1, 0.8, 0.9, 1, 1.1, 1.2, 1.3, 1.4],\n",
       "                         &#x27;gamma&#x27;: [0.1, 0.8, 0.9, 1, 1.1, 1.2, 1.3, 1.4],\n",
       "                         &#x27;kernel&#x27;: [&#x27;linear&#x27;, &#x27;rbf&#x27;]},\n",
       "             scoring=&#x27;accuracy&#x27;)</pre><b>In a Jupyter environment, please rerun this cell to show the HTML representation or trust the notebook. <br />On GitHub, the HTML representation is unable to render, please try loading this page with nbviewer.org.</b></div><div class=\"sk-container\" hidden><div class=\"sk-item sk-dashed-wrapped\"><div class=\"sk-label-container\"><div class=\"sk-label fitted sk-toggleable\"><input class=\"sk-toggleable__control sk-hidden--visually\" id=\"sk-estimator-id-1\" type=\"checkbox\" ><label for=\"sk-estimator-id-1\" class=\"sk-toggleable__label fitted sk-toggleable__label-arrow\"><div><div>GridSearchCV</div></div><div><a class=\"sk-estimator-doc-link fitted\" rel=\"noreferrer\" target=\"_blank\" href=\"https://scikit-learn.org/1.6/modules/generated/sklearn.model_selection.GridSearchCV.html\">?<span>Documentation for GridSearchCV</span></a><span class=\"sk-estimator-doc-link fitted\">i<span>Fitted</span></span></div></label><div class=\"sk-toggleable__content fitted\"><pre>GridSearchCV(cv=10, estimator=SVC(),\n",
       "             param_grid={&#x27;C&#x27;: [0.1, 0.8, 0.9, 1, 1.1, 1.2, 1.3, 1.4],\n",
       "                         &#x27;gamma&#x27;: [0.1, 0.8, 0.9, 1, 1.1, 1.2, 1.3, 1.4],\n",
       "                         &#x27;kernel&#x27;: [&#x27;linear&#x27;, &#x27;rbf&#x27;]},\n",
       "             scoring=&#x27;accuracy&#x27;)</pre></div> </div></div><div class=\"sk-parallel\"><div class=\"sk-parallel-item\"><div class=\"sk-item\"><div class=\"sk-label-container\"><div class=\"sk-label fitted sk-toggleable\"><input class=\"sk-toggleable__control sk-hidden--visually\" id=\"sk-estimator-id-2\" type=\"checkbox\" ><label for=\"sk-estimator-id-2\" class=\"sk-toggleable__label fitted sk-toggleable__label-arrow\"><div><div>best_estimator_: SVC</div></div></label><div class=\"sk-toggleable__content fitted\"><pre>SVC(C=1.2, gamma=0.9)</pre></div> </div></div><div class=\"sk-serial\"><div class=\"sk-item\"><div class=\"sk-estimator fitted sk-toggleable\"><input class=\"sk-toggleable__control sk-hidden--visually\" id=\"sk-estimator-id-3\" type=\"checkbox\" ><label for=\"sk-estimator-id-3\" class=\"sk-toggleable__label fitted sk-toggleable__label-arrow\"><div><div>SVC</div></div><div><a class=\"sk-estimator-doc-link fitted\" rel=\"noreferrer\" target=\"_blank\" href=\"https://scikit-learn.org/1.6/modules/generated/sklearn.svm.SVC.html\">?<span>Documentation for SVC</span></a></div></label><div class=\"sk-toggleable__content fitted\"><pre>SVC(C=1.2, gamma=0.9)</pre></div> </div></div></div></div></div></div></div></div></div>"
      ],
      "text/plain": [
       "GridSearchCV(cv=10, estimator=SVC(),\n",
       "             param_grid={'C': [0.1, 0.8, 0.9, 1, 1.1, 1.2, 1.3, 1.4],\n",
       "                         'gamma': [0.1, 0.8, 0.9, 1, 1.1, 1.2, 1.3, 1.4],\n",
       "                         'kernel': ['linear', 'rbf']},\n",
       "             scoring='accuracy')"
      ]
     },
     "execution_count": 50,
     "metadata": {},
     "output_type": "execute_result"
    }
   ],
   "source": [
    "grid_svc.fit(X_train, y_train)"
   ]
  },
  {
   "cell_type": "code",
   "execution_count": 51,
   "metadata": {
    "_cell_guid": "55a3e439-c2e3-426e-a1a5-cd653bf8bfa9",
    "_uuid": "0d70efd0eb41271afb4ac50291aa83c6791847a3"
   },
   "outputs": [
    {
     "data": {
      "text/plain": [
       "{'C': 1.2, 'gamma': 0.9, 'kernel': 'rbf'}"
      ]
     },
     "execution_count": 51,
     "metadata": {},
     "output_type": "execute_result"
    }
   ],
   "source": [
    "#Best parameters for our svc model\n",
    "grid_svc.best_params_"
   ]
  },
  {
   "cell_type": "code",
   "execution_count": 52,
   "metadata": {
    "_cell_guid": "362ff8bd-7cf3-48af-a93a-499b52dab0d7",
    "_uuid": "dd4a0ac5ef6c17e9e2312a03df0d82ca088c40f2"
   },
   "outputs": [
    {
     "name": "stdout",
     "output_type": "stream",
     "text": [
      "              precision    recall  f1-score   support\n",
      "\n",
      "           0       0.90      0.99      0.94       273\n",
      "           1       0.89      0.34      0.49        47\n",
      "\n",
      "    accuracy                           0.90       320\n",
      "   macro avg       0.89      0.67      0.72       320\n",
      "weighted avg       0.90      0.90      0.88       320\n",
      "\n"
     ]
    }
   ],
   "source": [
    "#Let's run our SVC again with the best parameters.\n",
    "svc2 = SVC(C = 1.2, gamma =  0.9, kernel= 'rbf')\n",
    "svc2.fit(X_train, y_train)\n",
    "pred_svc2 = svc2.predict(X_test)\n",
    "print(classification_report(y_test, pred_svc2))"
   ]
  },
  {
   "cell_type": "markdown",
   "metadata": {
    "_cell_guid": "d14b50b9-006a-490f-a626-4a2a41b843d6",
    "_uuid": "eca47cbe6600911992c4ebee60c68e3fe37a3c91"
   },
   "source": [
    "### SVC improves from 86% to 90% using Grid Search CV"
   ]
  },
  {
   "cell_type": "markdown",
   "metadata": {
    "_cell_guid": "9cfb4b02-75c7-41ac-9ef7-0dcb2b00124e",
    "_uuid": "4b47f0260582ad526d3b8057d7f2ce96157720f1"
   },
   "source": []
  },
  {
   "cell_type": "markdown",
   "metadata": {
    "_cell_guid": "d6cd1c1f-9531-4c6a-87c1-262dd7fb6caf",
    "_uuid": "9f705df2b81e776eedc164c5d933ff4dd4c61d31"
   },
   "source": [
    "## Cross Validation Score for random forest and SGD"
   ]
  },
  {
   "cell_type": "code",
   "execution_count": 53,
   "metadata": {
    "_cell_guid": "a5507be9-a3eb-4bba-b8d5-928d015faadf",
    "_uuid": "24a7f7dc1bf59eaae6e5ea5a6f61130664fcd260"
   },
   "outputs": [
    {
     "data": {
      "text/plain": [
       "np.float64(0.9109005905511811)"
      ]
     },
     "execution_count": 53,
     "metadata": {},
     "output_type": "execute_result"
    }
   ],
   "source": [
    "#Now lets try to do some evaluation for random forest model using cross validation.\n",
    "rfc_eval = cross_val_score(estimator = rfc, X = X_train, y = y_train, cv = 10)\n",
    "rfc_eval.mean()"
   ]
  },
  {
   "cell_type": "markdown",
   "metadata": {
    "_cell_guid": "4a6ab3c5-4b28-442e-be48-9e3eb14a6e79",
    "_uuid": "186ca0ca24faac487ca40563c9490f94f51a433a"
   },
   "source": [
    "### Random forest accuracy increases from 87% to 91 % using cross validation score"
   ]
  },
  {
   "cell_type": "markdown",
   "metadata": {
    "_cell_guid": "83d17bc9-b35a-4561-9368-bb8cd59558d4",
    "_uuid": "fca769d889ee6043785cad11fe54c455e1a4d0c2"
   },
   "source": [
    "### Thank for going through this notebook"
   ]
  },
  {
   "cell_type": "markdown",
   "metadata": {
    "_cell_guid": "01762203-2a90-419c-944f-b0c9f6230b81",
    "_uuid": "16946f697fd0ac8ab47f3b9eb5c433dbbcce4a16"
   },
   "source": [
    "## If you find this notebook useful then please upvote. So the beginners can find easily"
   ]
  },
  {
   "cell_type": "code",
   "execution_count": 54,
   "metadata": {
    "_cell_guid": "9880c001-331b-43d2-9a35-7c653909eaf0",
    "_uuid": "6b8d3662f89c436749ee26af98b0f79636c569c2",
    "collapsed": true
   },
   "outputs": [],
   "source": [
    "import pickle\n",
    "\n",
    "# Збереження моделі в .pkl файл\n",
    "with open('random_forest_model.pkl', 'wb') as model_file:\n",
    "    pickle.dump(rfc, model_file)\n",
    "\n",
   ]
  },
  {
   "cell_type": "code",
   "execution_count": 56,
   "metadata": {},
   "outputs": [],
   "source": [
    "pickle.dump(sc, open('scaler.pkl','wb'))\n"
   ]
  },
  {
   "cell_type": "code",
   "execution_count": 57,
   "metadata": {},
   "outputs": [
    {
     "data": {
      "text/html": [
       "<div>\n",
       "<style scoped>\n",
       "    .dataframe tbody tr th:only-of-type {\n",
       "        vertical-align: middle;\n",
       "    }\n",
       "\n",
       "    .dataframe tbody tr th {\n",
       "        vertical-align: top;\n",
       "    }\n",
       "\n",
       "    .dataframe thead th {\n",
       "        text-align: right;\n",
       "    }\n",
       "</style>\n",
       "<table border=\"1\" class=\"dataframe\">\n",
       "  <thead>\n",
       "    <tr style=\"text-align: right;\">\n",
       "      <th></th>\n",
       "      <th>fixed acidity</th>\n",
       "      <th>volatile acidity</th>\n",
       "      <th>citric acid</th>\n",
       "      <th>residual sugar</th>\n",
       "      <th>chlorides</th>\n",
       "      <th>free sulfur dioxide</th>\n",
       "      <th>total sulfur dioxide</th>\n",
       "      <th>density</th>\n",
       "      <th>pH</th>\n",
       "      <th>sulphates</th>\n",
       "      <th>alcohol</th>\n",
       "      <th>quality</th>\n",
       "    </tr>\n",
       "  </thead>\n",
       "  <tbody>\n",
       "    <tr>\n",
       "      <th>count</th>\n",
       "      <td>1599.000000</td>\n",
       "      <td>1599.000000</td>\n",
       "      <td>1599.000000</td>\n",
       "      <td>1599.000000</td>\n",
       "      <td>1599.000000</td>\n",
       "      <td>1599.000000</td>\n",
       "      <td>1599.000000</td>\n",
       "      <td>1599.000000</td>\n",
       "      <td>1599.000000</td>\n",
       "      <td>1599.000000</td>\n",
       "      <td>1599.000000</td>\n",
       "      <td>1599.000000</td>\n",
       "    </tr>\n",
       "    <tr>\n",
       "      <th>mean</th>\n",
       "      <td>8.319637</td>\n",
       "      <td>0.527821</td>\n",
       "      <td>0.270976</td>\n",
       "      <td>2.538806</td>\n",
       "      <td>0.087467</td>\n",
       "      <td>15.874922</td>\n",
       "      <td>46.467792</td>\n",
       "      <td>0.996747</td>\n",
       "      <td>3.311113</td>\n",
       "      <td>0.658149</td>\n",
       "      <td>10.422983</td>\n",
       "      <td>0.135710</td>\n",
       "    </tr>\n",
       "    <tr>\n",
       "      <th>std</th>\n",
       "      <td>1.741096</td>\n",
       "      <td>0.179060</td>\n",
       "      <td>0.194801</td>\n",
       "      <td>1.409928</td>\n",
       "      <td>0.047065</td>\n",
       "      <td>10.460157</td>\n",
       "      <td>32.895324</td>\n",
       "      <td>0.001887</td>\n",
       "      <td>0.154386</td>\n",
       "      <td>0.169507</td>\n",
       "      <td>1.065668</td>\n",
       "      <td>0.342587</td>\n",
       "    </tr>\n",
       "    <tr>\n",
       "      <th>min</th>\n",
       "      <td>4.600000</td>\n",
       "      <td>0.120000</td>\n",
       "      <td>0.000000</td>\n",
       "      <td>0.900000</td>\n",
       "      <td>0.012000</td>\n",
       "      <td>1.000000</td>\n",
       "      <td>6.000000</td>\n",
       "      <td>0.990070</td>\n",
       "      <td>2.740000</td>\n",
       "      <td>0.330000</td>\n",
       "      <td>8.400000</td>\n",
       "      <td>0.000000</td>\n",
       "    </tr>\n",
       "    <tr>\n",
       "      <th>25%</th>\n",
       "      <td>7.100000</td>\n",
       "      <td>0.390000</td>\n",
       "      <td>0.090000</td>\n",
       "      <td>1.900000</td>\n",
       "      <td>0.070000</td>\n",
       "      <td>7.000000</td>\n",
       "      <td>22.000000</td>\n",
       "      <td>0.995600</td>\n",
       "      <td>3.210000</td>\n",
       "      <td>0.550000</td>\n",
       "      <td>9.500000</td>\n",
       "      <td>0.000000</td>\n",
       "    </tr>\n",
       "    <tr>\n",
       "      <th>50%</th>\n",
       "      <td>7.900000</td>\n",
       "      <td>0.520000</td>\n",
       "      <td>0.260000</td>\n",
       "      <td>2.200000</td>\n",
       "      <td>0.079000</td>\n",
       "      <td>14.000000</td>\n",
       "      <td>38.000000</td>\n",
       "      <td>0.996750</td>\n",
       "      <td>3.310000</td>\n",
       "      <td>0.620000</td>\n",
       "      <td>10.200000</td>\n",
       "      <td>0.000000</td>\n",
       "    </tr>\n",
       "    <tr>\n",
       "      <th>75%</th>\n",
       "      <td>9.200000</td>\n",
       "      <td>0.640000</td>\n",
       "      <td>0.420000</td>\n",
       "      <td>2.600000</td>\n",
       "      <td>0.090000</td>\n",
       "      <td>21.000000</td>\n",
       "      <td>62.000000</td>\n",
       "      <td>0.997835</td>\n",
       "      <td>3.400000</td>\n",
       "      <td>0.730000</td>\n",
       "      <td>11.100000</td>\n",
       "      <td>0.000000</td>\n",
       "    </tr>\n",
       "    <tr>\n",
       "      <th>max</th>\n",
       "      <td>15.900000</td>\n",
       "      <td>1.580000</td>\n",
       "      <td>1.000000</td>\n",
       "      <td>15.500000</td>\n",
       "      <td>0.611000</td>\n",
       "      <td>72.000000</td>\n",
       "      <td>289.000000</td>\n",
       "      <td>1.003690</td>\n",
       "      <td>4.010000</td>\n",
       "      <td>2.000000</td>\n",
       "      <td>14.900000</td>\n",
       "      <td>1.000000</td>\n",
       "    </tr>\n",
       "  </tbody>\n",
       "</table>\n",
       "</div>"
      ],
      "text/plain": [
       "       fixed acidity  volatile acidity  citric acid  residual sugar  \\\n",
       "count    1599.000000       1599.000000  1599.000000     1599.000000   \n",
       "mean        8.319637          0.527821     0.270976        2.538806   \n",
       "std         1.741096          0.179060     0.194801        1.409928   \n",
       "min         4.600000          0.120000     0.000000        0.900000   \n",
       "25%         7.100000          0.390000     0.090000        1.900000   \n",
       "50%         7.900000          0.520000     0.260000        2.200000   \n",
       "75%         9.200000          0.640000     0.420000        2.600000   \n",
       "max        15.900000          1.580000     1.000000       15.500000   \n",
       "\n",
       "         chlorides  free sulfur dioxide  total sulfur dioxide      density  \\\n",
       "count  1599.000000          1599.000000           1599.000000  1599.000000   \n",
       "mean      0.087467            15.874922             46.467792     0.996747   \n",
       "std       0.047065            10.460157             32.895324     0.001887   \n",
       "min       0.012000             1.000000              6.000000     0.990070   \n",
       "25%       0.070000             7.000000             22.000000     0.995600   \n",
       "50%       0.079000            14.000000             38.000000     0.996750   \n",
       "75%       0.090000            21.000000             62.000000     0.997835   \n",
       "max       0.611000            72.000000            289.000000     1.003690   \n",
       "\n",
       "                pH    sulphates      alcohol      quality  \n",
       "count  1599.000000  1599.000000  1599.000000  1599.000000  \n",
       "mean      3.311113     0.658149    10.422983     0.135710  \n",
       "std       0.154386     0.169507     1.065668     0.342587  \n",
       "min       2.740000     0.330000     8.400000     0.000000  \n",
       "25%       3.210000     0.550000     9.500000     0.000000  \n",
       "50%       3.310000     0.620000    10.200000     0.000000  \n",
       "75%       3.400000     0.730000    11.100000     0.000000  \n",
       "max       4.010000     2.000000    14.900000     1.000000  "
      ]
     },
     "execution_count": 57,
     "metadata": {},
     "output_type": "execute_result"
    }
   ],
   "source": [
    "wine.describe()"
   ]
  },
  {
   "cell_type": "code",
   "execution_count": 64,
   "metadata": {},
   "outputs": [
    {
     "data": {
      "text/html": [
       "<div>\n",
       "<style scoped>\n",
       "    .dataframe tbody tr th:only-of-type {\n",
       "        vertical-align: middle;\n",
       "    }\n",
       "\n",
       "    .dataframe tbody tr th {\n",
       "        vertical-align: top;\n",
       "    }\n",
       "\n",
       "    .dataframe thead th {\n",
       "        text-align: right;\n",
       "    }\n",
       "</style>\n",
       "<table border=\"1\" class=\"dataframe\">\n",
       "  <thead>\n",
       "    <tr style=\"text-align: right;\">\n",
       "      <th></th>\n",
       "      <th>fixed acidity</th>\n",
       "      <th>volatile acidity</th>\n",
       "      <th>citric acid</th>\n",
       "      <th>residual sugar</th>\n",
       "      <th>chlorides</th>\n",
       "      <th>free sulfur dioxide</th>\n",
       "      <th>total sulfur dioxide</th>\n",
       "      <th>density</th>\n",
       "      <th>pH</th>\n",
       "      <th>sulphates</th>\n",
       "      <th>alcohol</th>\n",
       "      <th>quality</th>\n",
       "    </tr>\n",
       "  </thead>\n",
       "  <tbody>\n",
       "    <tr>\n",
       "      <th>7</th>\n",
       "      <td>7.3</td>\n",
       "      <td>0.65</td>\n",
       "      <td>0.00</td>\n",
       "      <td>1.2</td>\n",
       "      <td>0.065</td>\n",
       "      <td>15.0</td>\n",
       "      <td>21.0</td>\n",
       "      <td>0.99460</td>\n",
       "      <td>3.39</td>\n",
       "      <td>0.47</td>\n",
       "      <td>10.00</td>\n",
       "      <td>1</td>\n",
       "    </tr>\n",
       "    <tr>\n",
       "      <th>8</th>\n",
       "      <td>7.8</td>\n",
       "      <td>0.58</td>\n",
       "      <td>0.02</td>\n",
       "      <td>2.0</td>\n",
       "      <td>0.073</td>\n",
       "      <td>9.0</td>\n",
       "      <td>18.0</td>\n",
       "      <td>0.99680</td>\n",
       "      <td>3.36</td>\n",
       "      <td>0.57</td>\n",
       "      <td>9.50</td>\n",
       "      <td>1</td>\n",
       "    </tr>\n",
       "    <tr>\n",
       "      <th>16</th>\n",
       "      <td>8.5</td>\n",
       "      <td>0.28</td>\n",
       "      <td>0.56</td>\n",
       "      <td>1.8</td>\n",
       "      <td>0.092</td>\n",
       "      <td>35.0</td>\n",
       "      <td>103.0</td>\n",
       "      <td>0.99690</td>\n",
       "      <td>3.30</td>\n",
       "      <td>0.75</td>\n",
       "      <td>10.50</td>\n",
       "      <td>1</td>\n",
       "    </tr>\n",
       "    <tr>\n",
       "      <th>37</th>\n",
       "      <td>8.1</td>\n",
       "      <td>0.38</td>\n",
       "      <td>0.28</td>\n",
       "      <td>2.1</td>\n",
       "      <td>0.066</td>\n",
       "      <td>13.0</td>\n",
       "      <td>30.0</td>\n",
       "      <td>0.99680</td>\n",
       "      <td>3.23</td>\n",
       "      <td>0.73</td>\n",
       "      <td>9.70</td>\n",
       "      <td>1</td>\n",
       "    </tr>\n",
       "    <tr>\n",
       "      <th>62</th>\n",
       "      <td>7.5</td>\n",
       "      <td>0.52</td>\n",
       "      <td>0.16</td>\n",
       "      <td>1.9</td>\n",
       "      <td>0.085</td>\n",
       "      <td>12.0</td>\n",
       "      <td>35.0</td>\n",
       "      <td>0.99680</td>\n",
       "      <td>3.38</td>\n",
       "      <td>0.62</td>\n",
       "      <td>9.50</td>\n",
       "      <td>1</td>\n",
       "    </tr>\n",
       "    <tr>\n",
       "      <th>...</th>\n",
       "      <td>...</td>\n",
       "      <td>...</td>\n",
       "      <td>...</td>\n",
       "      <td>...</td>\n",
       "      <td>...</td>\n",
       "      <td>...</td>\n",
       "      <td>...</td>\n",
       "      <td>...</td>\n",
       "      <td>...</td>\n",
       "      <td>...</td>\n",
       "      <td>...</td>\n",
       "      <td>...</td>\n",
       "    </tr>\n",
       "    <tr>\n",
       "      <th>1541</th>\n",
       "      <td>7.4</td>\n",
       "      <td>0.25</td>\n",
       "      <td>0.29</td>\n",
       "      <td>2.2</td>\n",
       "      <td>0.054</td>\n",
       "      <td>19.0</td>\n",
       "      <td>49.0</td>\n",
       "      <td>0.99666</td>\n",
       "      <td>3.40</td>\n",
       "      <td>0.76</td>\n",
       "      <td>10.90</td>\n",
       "      <td>1</td>\n",
       "    </tr>\n",
       "    <tr>\n",
       "      <th>1544</th>\n",
       "      <td>8.4</td>\n",
       "      <td>0.37</td>\n",
       "      <td>0.43</td>\n",
       "      <td>2.3</td>\n",
       "      <td>0.063</td>\n",
       "      <td>12.0</td>\n",
       "      <td>19.0</td>\n",
       "      <td>0.99550</td>\n",
       "      <td>3.17</td>\n",
       "      <td>0.81</td>\n",
       "      <td>11.20</td>\n",
       "      <td>1</td>\n",
       "    </tr>\n",
       "    <tr>\n",
       "      <th>1549</th>\n",
       "      <td>7.4</td>\n",
       "      <td>0.36</td>\n",
       "      <td>0.30</td>\n",
       "      <td>1.8</td>\n",
       "      <td>0.074</td>\n",
       "      <td>17.0</td>\n",
       "      <td>24.0</td>\n",
       "      <td>0.99419</td>\n",
       "      <td>3.24</td>\n",
       "      <td>0.70</td>\n",
       "      <td>11.40</td>\n",
       "      <td>1</td>\n",
       "    </tr>\n",
       "    <tr>\n",
       "      <th>1555</th>\n",
       "      <td>7.0</td>\n",
       "      <td>0.56</td>\n",
       "      <td>0.17</td>\n",
       "      <td>1.7</td>\n",
       "      <td>0.065</td>\n",
       "      <td>15.0</td>\n",
       "      <td>24.0</td>\n",
       "      <td>0.99514</td>\n",
       "      <td>3.44</td>\n",
       "      <td>0.68</td>\n",
       "      <td>10.55</td>\n",
       "      <td>1</td>\n",
       "    </tr>\n",
       "    <tr>\n",
       "      <th>1584</th>\n",
       "      <td>6.7</td>\n",
       "      <td>0.32</td>\n",
       "      <td>0.44</td>\n",
       "      <td>2.4</td>\n",
       "      <td>0.061</td>\n",
       "      <td>24.0</td>\n",
       "      <td>34.0</td>\n",
       "      <td>0.99484</td>\n",
       "      <td>3.29</td>\n",
       "      <td>0.80</td>\n",
       "      <td>11.60</td>\n",
       "      <td>1</td>\n",
       "    </tr>\n",
       "  </tbody>\n",
       "</table>\n",
       "<p>217 rows × 12 columns</p>\n",
       "</div>"
      ],
      "text/plain": [
       "      fixed acidity  volatile acidity  citric acid  residual sugar  chlorides  \\\n",
       "7               7.3              0.65         0.00             1.2      0.065   \n",
       "8               7.8              0.58         0.02             2.0      0.073   \n",
       "16              8.5              0.28         0.56             1.8      0.092   \n",
       "37              8.1              0.38         0.28             2.1      0.066   \n",
       "62              7.5              0.52         0.16             1.9      0.085   \n",
       "...             ...               ...          ...             ...        ...   \n",
       "1541            7.4              0.25         0.29             2.2      0.054   \n",
       "1544            8.4              0.37         0.43             2.3      0.063   \n",
       "1549            7.4              0.36         0.30             1.8      0.074   \n",
       "1555            7.0              0.56         0.17             1.7      0.065   \n",
       "1584            6.7              0.32         0.44             2.4      0.061   \n",
       "\n",
       "      free sulfur dioxide  total sulfur dioxide  density    pH  sulphates  \\\n",
       "7                    15.0                  21.0  0.99460  3.39       0.47   \n",
       "8                     9.0                  18.0  0.99680  3.36       0.57   \n",
       "16                   35.0                 103.0  0.99690  3.30       0.75   \n",
       "37                   13.0                  30.0  0.99680  3.23       0.73   \n",
       "62                   12.0                  35.0  0.99680  3.38       0.62   \n",
       "...                   ...                   ...      ...   ...        ...   \n",
       "1541                 19.0                  49.0  0.99666  3.40       0.76   \n",
       "1544                 12.0                  19.0  0.99550  3.17       0.81   \n",
       "1549                 17.0                  24.0  0.99419  3.24       0.70   \n",
       "1555                 15.0                  24.0  0.99514  3.44       0.68   \n",
       "1584                 24.0                  34.0  0.99484  3.29       0.80   \n",
       "\n",
       "      alcohol  quality  \n",
       "7       10.00        1  \n",
       "8        9.50        1  \n",
       "16      10.50        1  \n",
       "37       9.70        1  \n",
       "62       9.50        1  \n",
       "...       ...      ...  \n",
       "1541    10.90        1  \n",
       "1544    11.20        1  \n",
       "1549    11.40        1  \n",
       "1555    10.55        1  \n",
       "1584    11.60        1  \n",
       "\n",
       "[217 rows x 12 columns]"
      ]
     },
     "execution_count": 64,
     "metadata": {},
     "output_type": "execute_result"
    }
   ],
   "source": [
    "wine[wine['quality']==1]\n"
   ]
  },
  {
   "cell_type": "code",
   "execution_count": null,
   "metadata": {},
   "outputs": [],
   "source": []
  }
 ],
 "metadata": {
  "kernelspec": {
   "display_name": "venv",
   "language": "python",
   "name": "python3"
  },
  "language_info": {
   "codemirror_mode": {
    "name": "ipython",
    "version": 3
   },
   "file_extension": ".py",
   "mimetype": "text/x-python",
   "name": "python",
   "nbconvert_exporter": "python",
   "pygments_lexer": "ipython3",
   "version": "3.10.0"
  }
 },
 "nbformat": 4,
 "nbformat_minor": 1
}
